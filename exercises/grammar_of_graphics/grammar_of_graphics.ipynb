{
 "cells": [
  {
   "cell_type": "markdown",
   "metadata": {},
   "source": [
    "# Grammar of Graphics <img src=\"images/JHI_STRAP_Web.png\" style=\"width: 150px; float: right;\">"
   ]
  },
  {
   "cell_type": "markdown",
   "metadata": {},
   "source": [
    "<div class=\"alert alert-success\">\n",
    "<h2>Introduction</h2>\n",
    "</div>"
   ]
  },
  {
   "cell_type": "markdown",
   "metadata": {},
   "source": [
    "The *Grammar of Graphics* is a way of understanding the representation of data that differs from the 'traditional' way of thinking in terms of specific kinds of plot. It was pioneered by Leland Wilkinson in the early 2000s, but massively popularised, and very well explained, by Hadley Wickham and applied in the incredibly popular `ggplot` libraries in `R`.\n",
    "\n",
    "* Hadley Wickham's [\"A Layered Grammar of Graphics\"](http://vita.had.co.nz/papers/layered-grammar.pdf)\n",
    "* [Review](http://www.r-bloggers.com/the-grammar-of-graphics-l-wilkinson/) of \"The Grammar of Graphics\" (Wilkinson)\n",
    "* `ggplot2`: [home page](http://ggplot2.org/)"
   ]
  },
  {
   "cell_type": "markdown",
   "metadata": {},
   "source": [
    "The central premise of the *grammar of graphics* is data and its representation are handled separately. This allows for components of a plot to be customised easily to achieve a specific representation that allows you to explore and understand your data, or explains it to others, effectively.\n",
    "\n",
    "If you are coming to the *grammar of graphics* for the first time, it can appear quite non-intuitive, but I hope you will see that it has many advantages over considering graphical representation in terms of archetypal 'types' of plot.\n",
    "\n",
    "In this notebook you will learn how the *grammar of graphics* is applied in the Python module `ggplot`, and how to apply its principles to your own datasets.\n",
    "\n",
    "![grammar of graphics example](images/gog.png)"
   ]
  },
  {
   "cell_type": "markdown",
   "metadata": {},
   "source": [
    "#### Python imports\n",
    "\n",
    "The code in the cell below suppresses noisy warnings from `matplotlib` and `pandas`"
   ]
  },
  {
   "cell_type": "code",
   "execution_count": null,
   "metadata": {
    "collapsed": true
   },
   "outputs": [],
   "source": [
    "import warnings\n",
    "warnings.filterwarnings('ignore')"
   ]
  },
  {
   "cell_type": "markdown",
   "metadata": {},
   "source": [
    "### Learning Outcomes\n",
    "\n",
    "* Understand the Grammar of Graphics\n",
    "* Use the Grammar of Graphics with the `ggplot` module to produce a scatterplot from *aesthetics* and *geometric representations*.\n",
    "* Use *layers* to produce new visualisations specifically to suit your data, showing data and statistical summaries\n",
    "* Use multi-panel figures to display complex datasets"
   ]
  },
  {
   "cell_type": "markdown",
   "metadata": {},
   "source": [
    "<div class=\"alert alert-success\">\n",
    "<h2>Exercise</h2>\n",
    "</div>"
   ]
  },
  {
   "cell_type": "markdown",
   "metadata": {},
   "source": [
    "<div class=\"alert alert-success\">\n",
    "<h3>1. Producing a Basic Scatterplot</h3>\n",
    "</div>"
   ]
  },
  {
   "cell_type": "markdown",
   "metadata": {},
   "source": [
    "In this part of the exercise, you will produce a basic scatterplot of socioeconomic data, and work through understanding the elements of the plot and how they relate to the *grammar of graphics*."
   ]
  },
  {
   "cell_type": "markdown",
   "metadata": {},
   "source": [
    "#### Python imports\n",
    "\n",
    "The `ggplot` Python module implements the *grammar of graphics* in a style similar to that used for `R`'s `ggplot2` library\n",
    "\n",
    "* `ggplot` module: [project page](http://ggplot.yhathq.com/)\n",
    "\n",
    "and we will use it for this exercise. \n",
    "\n",
    "<div class=\"alert alert-danger\">\n",
    "This module uses <b>matplotlib</b> as a backend, and if you are running in a virtual environment on OSX, it is likely that you will not have this installed as a Framework, so you will need to use the <b>%pylab inline</b> magic.\n",
    "</div>\n",
    "\n",
    "`ggplot` is intended to work well with the `DataFrame` representations of the `Pandas` module - a little like a reimplementation of `R`'s data philosophy in Python, so we also import this module. \n",
    "\n",
    "```python\n",
    "%matplotlib inline\n",
    "\n",
    "from ggplot import *\n",
    "\n",
    "import pandas as pd\n",
    "```"
   ]
  },
  {
   "cell_type": "code",
   "execution_count": null,
   "metadata": {},
   "outputs": [],
   "source": [
    "# Import ggplot and pandas modules\n",
    "%matplotlib inline\n",
    "\n",
    "from ggplot import *\n",
    "\n",
    "import pandas as pd"
   ]
  },
  {
   "cell_type": "markdown",
   "metadata": {},
   "source": [
    "#### Importing data\n",
    "\n",
    "We will need some data to work with, and for this we will use data from the `R` package `gapminder`, which describes an excerpt of the Gapminder data on life expectancy, GDP per capita, and population by country.\n",
    "\n",
    "* `gapminder` data: [R documentation](https://cran.r-project.org/web/packages/gapminder/index.html)\n",
    "* `pandas`: [documentation](http://pandas.pydata.org/pandas-docs/stable/)\n",
    "\n",
    "This is located under this repository's root directory in the `data` subdirectory in tab-separated tabular format, as `gapminder.tab`. We can import this to a DataFrame in the variable `gapminder` using `pandas`:\n",
    "\n",
    "```python\n",
    "gapminder = pd.read_csv(\"../../data/gapminder.tab\", sep=\"\\t\")\n",
    "```"
   ]
  },
  {
   "cell_type": "code",
   "execution_count": null,
   "metadata": {
    "collapsed": true
   },
   "outputs": [],
   "source": [
    "# Import gapminder data into the variable gapminder\n",
    "gapminder = pd.read_csv(\"../../data/gapminder.tab\", sep=\"\\t\")"
   ]
  },
  {
   "cell_type": "markdown",
   "metadata": {},
   "source": [
    "We can peek at the data in a `pandas` dataframe with the `.head()` method, which shows is the first few lines, along with header and row index information. The `.describe()` method will show summary information on the data in each column.\n",
    "\n",
    "To see what data type each column holds, we can look at the `.dtypes` attribute of the dataframe\n",
    "\n",
    "```python\n",
    "gapminder.head()\n",
    "gapminder.describe()\n",
    "gapminder.dtypes\n",
    "```\n",
    "\n",
    "* ***QUESTION:*** What data is contained in the `gapminder` dataframe? How is it organised?\n",
    "* ***QUESTION:*** What are the minimum and maximum values in each column?\n",
    "*  ***QUESTION:*** What data types are `country`, `pop` and `lifeExp`? Why do you think these columns have these data types?"
   ]
  },
  {
   "cell_type": "code",
   "execution_count": null,
   "metadata": {
    "collapsed": true
   },
   "outputs": [],
   "source": [
    "# Peek at the gapminder data\n"
   ]
  },
  {
   "cell_type": "markdown",
   "metadata": {},
   "source": [
    "#### The elements of a scatterplot\n",
    "\n",
    "We can plot the data in `gapminder` using `ggplot` as though it were any other plotting library, just to render a basic scatterplot. We will do this by plotting life expectancy against GDP per capita with `ggplot`'s `qplot()` function. This emulates the `qplot()` function in `R`'s `ggplot2` library, but has this Python-specific difference:\n",
    "\n",
    "* **dataframe variables must be provided as strings**\n",
    "\n",
    "```python\n",
    "qplot('lifeExp', 'gdpPercap', data=gapminder, color='continent')\n",
    "```"
   ]
  },
  {
   "cell_type": "code",
   "execution_count": null,
   "metadata": {},
   "outputs": [],
   "source": [
    "# Use qplot to produce a basic scatterplot of gapminder data\n",
    "qplot('lifeExp', 'gdpPercap', data=gapminder, color='continent')"
   ]
  },
  {
   "cell_type": "markdown",
   "metadata": {},
   "source": [
    "<div class=\"alert alert-success\">\n",
    "<h3>2. Understanding a Scatterplot</h3>\n",
    "</div>"
   ]
  },
  {
   "cell_type": "markdown",
   "metadata": {},
   "source": [
    "It is likely that you can treat the scatterplot you have just produced quite intuitively. After all, you've probably seen a few scatterplots in your time.\n",
    "\n",
    "The plot has *x*- and *y*- **axes**, and a large number of **points** plotted against those axes, indicating associations between life expectancy and GDP per capita for each point. The points are **coloured** according to the continent on which the datapoint was measured, and these colours are indicated in a **legend**. \n",
    "\n",
    "By quick visual inspection, we can see that the blue points (Europe) are associated with high life expectanct, and red points (Africa) a low life expectancy. So, this representation has value in summarising our large `gapminder` table, and allowing us to infer patterns in the data.\n",
    "\n",
    "This convenience function (the default scatterplot) was quick and easy to draw, and informatics, but it's not very easy to modify or customise the representation. What if we'd like to build a plot *like* this, but different?\n",
    "\n",
    "We're going to consider the plot elements (in **bold** above) in a little more detail, to break them down a bit in terms of the *grammar of graphics*, so we can build highly customisable plots to represent your data."
   ]
  },
  {
   "cell_type": "markdown",
   "metadata": {},
   "source": [
    "<div class=\"alert alert-success\">\n",
    "2a. **aesthetics**\n",
    "</div>\n",
    "\n",
    "Firstly, we note that every *observation* in the data is a single **point**. Each point has an *aesthetic* that determines how it is rendered in the plot. The *aesthetics* we can control are:\n",
    "\n",
    "* *x*- and *y*- co-ordinate\n",
    "* shape\n",
    "* size\n",
    "* colour\n",
    "\n",
    "<div class=\"alert alert-warning\">\n",
    "<b>Each aesthetic can either be constant, or be mapped to a variable.</b>\n",
    "</div>"
   ]
  },
  {
   "cell_type": "markdown",
   "metadata": {},
   "source": [
    "Most obviously, the *x*- and *y*- co-ordinates are *mapped* to the variables `lifeExp` and `gdpPercap`, respectively. The *colour* aesthetic is mapped to the `continent` variable. \n",
    "\n",
    "These two mappings differ, because of the kind of variable being mapped:\n",
    "\n",
    "* `lifeExp` and `gdpPercap` are continuous variables\n",
    "* `continent` is a discrete variable\n",
    "\n",
    "<div class=\"alert alert-warning\">\n",
    "<b>We could construct many different plots from exactly the same data, just by using different aesthetics</b>\n",
    "</div>"
   ]
  },
  {
   "cell_type": "markdown",
   "metadata": {},
   "source": [
    "For an arbitrary set of points, we could describe *x*-, *y*- and *colour* aesthetics as in the table below:\n",
    "\n",
    "![scatterplot aesthetics](images/scatterplot_data_table.png)\n",
    "\n",
    "This should remind you of a `DataFrame`, and with good reason: \n",
    "\n",
    "<div class=\"alert alert-warning\">\n",
    "<b>the mapping from <i>data</i> to an effective <i>visualisation</i> is in large part one of making an appropriate choice of <i>aesthetics</i></b>\n",
    "</div>\n",
    "\n",
    "*Aesthetics* essentially create a new dataset that corresponds to your original data, but that contains aesthetic information. Building a plot involves creating *mappings* from your data to produce values in this *aesthetic* dataset."
   ]
  },
  {
   "cell_type": "markdown",
   "metadata": {},
   "source": [
    "<div class=\"alert alert-success\">\n",
    "2b. Geometric representations: <b>geom</b>s\n",
    "</div>\n",
    "\n",
    "Independently of the aesthetics described above, we can consider different ways of drawing a dataset:\n",
    "\n",
    "* If we draw data with **points**, we have a **scatterplot**\n",
    "* If we draw data with **lines**, we have a **line plot**\n",
    "* If we draw data with **bars**, we have a **bar chart**\n",
    "\n",
    "and so on.\n",
    "\n",
    "These *types* of representation are referred to as *geometric representations*, or `geom`s, for short.\n",
    "\n",
    "![Types of `geom`](images/geom_types.png)\n",
    "\n",
    "* Not all `geom`s make sense for a given dataset, even though they may be \"grammatical\".\n",
    "* It is possible to combine multiple `geom`s to produce new graphs"
   ]
  },
  {
   "cell_type": "markdown",
   "metadata": {},
   "source": [
    "<div class=\"alert alert-success\">\n",
    "2c. <b>layers</b>\n",
    "</div>\n",
    "\n",
    "In the *grammar of graphics*, visualisations are built up as **layers**. Each layer has *at least* two parts:\n",
    "\n",
    "1. *data* and its *aesthetic* mapping\n",
    "2. a *geometric representation* (`geom`)\n",
    "\n",
    "Additionally, each layer may also have optional statistical transformations or adjustments (e.g. scalings, or fitted curves).\n",
    "\n",
    "<div class=\"alert alert-warning\">\n",
    "<b>The data in a layer may be provided in the layer itself or, more commonly, be provided in a <i>default dataset</i> that is in the base layer for the visualisation.</b>\n",
    "</div>"
   ]
  },
  {
   "cell_type": "markdown",
   "metadata": {},
   "source": [
    "<div class=\"alert alert-success\">\n",
    "2d. Recreating the scatterplot with <b>layers</b>\n",
    "</div>\n",
    "\n",
    "One approach to creating a plot with layers is first to create a *base layer* that contains the default dataset and defines *aesthetics* for it, and then to add additional layers that provide *geometric representations*. We will do this now to reproduce the scatterplot you drew above.\n",
    "\n",
    "#### Base layer\n",
    "\n",
    "We create a base layer as an instance of the `ggplot()` Class, and assign it to a variable `p`. The `ggplot()` is created with `gapminder` as the dataset, and with *aesthetics* that map the `lifeExp` and `gdpPercap` continuous variables to the *x*- and *y*- co-ordinates, respectively.\n",
    "\n",
    "```python\n",
    "p = ggplot(gapminder, aes(x='lifeExp', y='gdpPercap', color='continent'))\n",
    "```\n",
    "\n",
    "<div class=\"alert alert-warning\">\n",
    "<b>NOTE:</b> This does not have quite the same syntax as its <b>R</b> equivalent.\n",
    "</div>"
   ]
  },
  {
   "cell_type": "code",
   "execution_count": null,
   "metadata": {
    "collapsed": true
   },
   "outputs": [],
   "source": [
    "# Create the plot base layer\n"
   ]
  },
  {
   "cell_type": "markdown",
   "metadata": {},
   "source": [
    "#### First `geom` layer\n",
    "\n",
    "You will notice that, although you have created a base layer, there is no plot visible. This is in part because no geometric representation has been defined and, without this representation of the data, there is nothing to be drawn.\n",
    "\n",
    "To produce a figure, we *add* a `geom` to the base layer in `p`:\n",
    "\n",
    "```python\n",
    "p + geom_point()\n",
    "```\n",
    "\n",
    "<div class=\"alert alert-warning\">\n",
    "<b>NOTE:</b> This does not have quite the same syntax or behaviour as its <b>R</b> equivalent. In particular, it is not possible (in <b>ggplot v0.10.4</b>) to define a new aesthetic in this layer.\n",
    "</div>"
   ]
  },
  {
   "cell_type": "code",
   "execution_count": null,
   "metadata": {
    "collapsed": true
   },
   "outputs": [],
   "source": [
    "# Use a geom_point() to produce a scatterplot\n"
   ]
  },
  {
   "cell_type": "markdown",
   "metadata": {},
   "source": [
    "This only temporarily changes the plot, as the base plot in `p` remains unchanged. To make a 'permanent' change to a base plot, and to show it in the notebook, we can use the code:\n",
    "\n",
    "```python\n",
    "p = ggplot(gapminder, aes(x='lifeExp', y='gdpPercap', color='continent'))\n",
    "p += geom_point()\n",
    "p\n",
    "```"
   ]
  },
  {
   "cell_type": "code",
   "execution_count": null,
   "metadata": {
    "collapsed": true
   },
   "outputs": [],
   "source": [
    "# Add the geom_point() to the base plot in p, and render the whole scatterplot\n"
   ]
  },
  {
   "cell_type": "markdown",
   "metadata": {},
   "source": [
    "This now matches our earlier effort, and we can continue to add new `geom`s to the plot to build up more information:\n",
    "\n",
    "```python\n",
    "p = ggplot(gapminder, aes(x='lifeExp', y='gdpPercap', color='continent'))\n",
    "p += geom_point()\n",
    "p += xlab(\"life expectancy\")\n",
    "p += ylab(\"GDP per capita\")\n",
    "p += title(\"gapminder example data\")\n",
    "p\n",
    "```\n",
    "\n",
    "<div class=\"alert alert-warning\">\n",
    "<b>NOTE:</b> This does not have the same syntax or behaviour as its <b>R</b> equivalent. In particular, it is not possible (in <b>ggplot v0.10.4</b>) to render a plot then continue to add layers to the plot.\n",
    "</div>"
   ]
  },
  {
   "cell_type": "code",
   "execution_count": null,
   "metadata": {
    "collapsed": true
   },
   "outputs": [],
   "source": [
    "# Add axis labels and a title to the plot\n"
   ]
  },
  {
   "cell_type": "markdown",
   "metadata": {},
   "source": [
    "***CHALLENGE:*** Can you modify the example above so that the figure visualises how life expectancy has changed over time, as a scatterplot?\n"
   ]
  },
  {
   "cell_type": "code",
   "execution_count": null,
   "metadata": {
    "collapsed": true
   },
   "outputs": [],
   "source": [
    "# Answer challenge in this cell\n"
   ]
  },
  {
   "cell_type": "markdown",
   "metadata": {},
   "source": [
    "<div class=\"alert alert-success\">\n",
    "<h3>3. More Layers</h3>\n",
    "</div>\n",
    "\n",
    "An advantage to using the *grammar of graphics* approach to producing visualisations is that it is possible to *stack* **layers** of `geom`s to better visualise data. In this subsection we will see how to stack different types of *geometric representation* to obtain bespoke visualisations."
   ]
  },
  {
   "cell_type": "markdown",
   "metadata": {},
   "source": [
    "<div class=\"alert alert-success\">\n",
    "3a. <b>Stacking data representations</b>\n",
    "</div>"
   ]
  },
  {
   "cell_type": "markdown",
   "metadata": {},
   "source": [
    "The challenge answer above doesn't look very good as a data representation. While we can get a sense of the variation between continents, it is difficult to follow data points to track a single `country` over the data period. To see this information more clearly, we can use a `geom_line()` object to render a *line plot*:\n",
    "\n",
    "```python\n",
    "p = ggplot(gapminder, aes(x='year', y='lifeExp', color='continent'))\n",
    "p + geom_line()\n",
    "```"
   ]
  },
  {
   "cell_type": "code",
   "execution_count": null,
   "metadata": {
    "collapsed": true
   },
   "outputs": [],
   "source": [
    "# Render a line plot with geom_line()\n"
   ]
  },
  {
   "cell_type": "markdown",
   "metadata": {},
   "source": [
    "This hasn't worked very well. The data have not been grouped by country but instead by continent. The lines go vertically between all points for a single continent in each year, before skipping to the next year.\n",
    "\n",
    "To connect datapoints by country, we need to specify `country` as the grouping variable when we define the base *aesthetic*:\n",
    "\n",
    "```python\n",
    "p = ggplot(gapminder, aes(x='year', y='lifeExp', color='continent', by='country'))\n",
    "p + geom_line()\n",
    "```"
   ]
  },
  {
   "cell_type": "code",
   "execution_count": null,
   "metadata": {
    "collapsed": true
   },
   "outputs": [],
   "source": [
    "# Group datapoints by country, and render a line plot\n"
   ]
  },
  {
   "cell_type": "markdown",
   "metadata": {},
   "source": [
    "This looks much better, and now we can *overlay* or *stack* another `geom` - this time to place individual data points, with `geom_point()`:\n",
    "\n",
    "```python\n",
    "p = ggplot(gapminder, aes(x='year', y='lifeExp', color='continent', by='country'))\n",
    "p + geom_line() + geom_point()\n",
    "```"
   ]
  },
  {
   "cell_type": "code",
   "execution_count": null,
   "metadata": {
    "collapsed": true
   },
   "outputs": [],
   "source": [
    "# Stack a geom_point() on a geom_line() for the gapminder data\n"
   ]
  },
  {
   "cell_type": "markdown",
   "metadata": {},
   "source": [
    "To an extent (though less so than for the equivalent objects in `R`), we can modify aesthetics independently in separate layers. For example, we can set the colours of all plotted datapoints in the `geom_point()` layer to be black:\n",
    "\n",
    "```python\n",
    "p = ggplot(gapminder, aes(x='year', y='lifeExp', color='continent', by='country'))\n",
    "p + geom_line() + geom_point(color='black') \n",
    "```"
   ]
  },
  {
   "cell_type": "code",
   "execution_count": null,
   "metadata": {
    "collapsed": true
   },
   "outputs": [],
   "source": [
    "# Redraw the stacked plot, with black datapoints\n"
   ]
  },
  {
   "cell_type": "markdown",
   "metadata": {},
   "source": [
    "<div class=\"alert alert-success\">\n",
    "3b. <b>Data transformation</b>\n",
    "</div>\n",
    "\n",
    "Transformations, scalings and statistical summaries of data are another kind of *layer*, and can be stacked just like `geom`s."
   ]
  },
  {
   "cell_type": "markdown",
   "metadata": {},
   "source": [
    "In our earlier plot of 'GDP per capita' against 'life expectancy', it could be difficult to distinguish GDP on the *y*-axis:\n",
    "\n",
    "```python\n",
    "p = ggplot(gapminder, aes(x='lifeExp', y='gdpPercap', color='continent'))\n",
    "p + geom_point()\n",
    "```"
   ]
  },
  {
   "cell_type": "code",
   "execution_count": null,
   "metadata": {
    "collapsed": true
   },
   "outputs": [],
   "source": [
    "# Plot GDP against life expectancy\n"
   ]
  },
  {
   "cell_type": "markdown",
   "metadata": {},
   "source": [
    "We might consider using a log transformation of the GDP data. We could do this by creating a new column in our data table, filling it with transformed data, and then plotting this new column in place of `gdpPercap`. However, we can apply a scaling directly to our plot with the `scale_y_log()` transformation.\n",
    "\n",
    "```python\n",
    "p = ggplot(gapminder, aes(x='lifeExp', y='gdpPercap', color='continent'))\n",
    "p + geom_point() + scale_y_log()\n",
    "```\n",
    "\n",
    "(there is a counterpart `scale_x_log()` transformation). This essentially applies a transformation/mapping 'on-the-fly' to the data, as it is plotted."
   ]
  },
  {
   "cell_type": "code",
   "execution_count": null,
   "metadata": {
    "collapsed": true
   },
   "outputs": [],
   "source": [
    "# Replot the data with a log y-axis\n"
   ]
  },
  {
   "cell_type": "markdown",
   "metadata": {},
   "source": [
    "Although it may seem abstract, the action of recolouring data is also a transformation (but onto a domain of colours, rather than numerical values). Colour transformations/scalings are applied in the same way. The code below will redraw the plot with one of the `colorbrewer` palettes.\n",
    "\n",
    "* `colorbrewer`: [interactive examples](http://colorbrewer2.org/)\n",
    "\n",
    "```python\n",
    "p = ggplot(gapminder, aes(x='lifeExp', y='gdpPercap', color='continent'))\n",
    "p + geom_point() + scale_y_log() + scale_color_brewer()\n",
    "```\n",
    "\n",
    "Many options are available for `colorbrewer` palettes, and some experimentation may be useful when exploring your own data:\n",
    "\n",
    "```python\n",
    "scale_color_brewer(type='qual')\n",
    "scale_color_brewer(palette=3)\n",
    "scale_color_brewer(palette=2, type='div')\n",
    "```"
   ]
  },
  {
   "cell_type": "code",
   "execution_count": null,
   "metadata": {
    "collapsed": true
   },
   "outputs": [],
   "source": [
    "# Replot the log-transformed data with a Brewer colour scale\n"
   ]
  },
  {
   "cell_type": "markdown",
   "metadata": {},
   "source": [
    "<div class=\"alert alert-success\">\n",
    "3b. <b>Statistical data summaries</b>\n",
    "</div>"
   ]
  },
  {
   "cell_type": "markdown",
   "metadata": {},
   "source": [
    "Statistical analyses also transform data, usually by performing a data summary such as smoothing or binning. In the Python `ggplot` module, two layers are available. The first of these, `stat_smooth`, attempts to fit a smooth curve to your data (according to how it is grouped), and provides a visual estimate of confidence interval on the smoothing:\n",
    "\n",
    "```python\n",
    "p = ggplot(gapminder, aes(x='year', y='lifeExp', color='continent'))\n",
    "p + geom_point() + stat_smooth()\n",
    "```\n",
    "\n",
    "***QUESTION:*** How has life expectancy changed for each continent?\n",
    "\n",
    "<div class=\"alert alert-warning\">\n",
    "<b>NOTE:</b> These layers do not have the same syntax or behaviour as their <b>R</b> equivalents. They are much less flexible.\n",
    "</div>"
   ]
  },
  {
   "cell_type": "code",
   "execution_count": null,
   "metadata": {
    "collapsed": true
   },
   "outputs": [],
   "source": [
    "# Plot smoothed curves by continent for life expectancy over time\n"
   ]
  },
  {
   "cell_type": "markdown",
   "metadata": {},
   "source": [
    "The second statistical summary layer, `stat_density()` plots a kernel density estimate (KDE) of frequency for a given *x*-variable. The code below plots the frequency of a given life expectancy grouped by continent, for all countries and all years measured:\n",
    "\n",
    "```python\n",
    "p = ggplot(gapminder, aes(x='lifeExp', color='continent'))\n",
    "p + stat_density()\n",
    "```\n",
    "\n",
    "***QUESTION:*** How does life expectancy vary by continent?"
   ]
  },
  {
   "cell_type": "code",
   "execution_count": null,
   "metadata": {
    "collapsed": true
   },
   "outputs": [],
   "source": [
    "# Plot smoothed curves by continent for life expectancy over time\n"
   ]
  },
  {
   "cell_type": "markdown",
   "metadata": {},
   "source": [
    "<div class=\"alert alert-success\">\n",
    "<h3>4. Multi-panel figures</h3>\n",
    "</div>\n",
    "\n",
    "So far we have shown all our data in a single plot. We have used different colours and geometric representations to make our figures clearer, but sometimes multi-panel figures can give much clearer overviews of data, generally as *small multiple* plots.\n",
    "\n",
    "*Small multiple* plots (aka *trellis*, *lattice*, *grid* or *facet* plots) are similar graphs using the same scales and axes, but representing different subsets of a complete dataset, allowing them to be easily compared visually. These plots are fairly easy to represent using `ggplot`, as in this module the `facet_wrap()` or `facet_grid()` object is just another layer of the plot."
   ]
  },
  {
   "cell_type": "markdown",
   "metadata": {},
   "source": [
    "A single plot that groups our `gapminder` data by country, colouring them by continent, is messy and hard to read:\n",
    "\n",
    "```python\n",
    "p = ggplot(gapminder, aes(x='year', y='lifeExp', color='continent', by='country'))\n",
    "p + geom_line()\n",
    "```\n",
    "\n",
    "***QUESTION:*** Can you tell how life expectancy has changed on each continent?"
   ]
  },
  {
   "cell_type": "code",
   "execution_count": null,
   "metadata": {
    "collapsed": true
   },
   "outputs": [],
   "source": [
    "# Group datapoints by country, and render a line plot\n"
   ]
  },
  {
   "cell_type": "markdown",
   "metadata": {},
   "source": [
    "Using a small multiple plot with the `facet_wrap()` layer, we can split plots out on the basis of a named variable. Here we will split by continent:\n",
    "\n",
    "```python\n",
    "p = ggplot(gapminder, aes(x='year', y='lifeExp', color='continent', by='country'))\n",
    "p + geom_line() + facet_wrap('continent')\n",
    "```\n",
    "\n",
    "***QUESTION:*** How has life expectancy changed on each continent?"
   ]
  },
  {
   "cell_type": "code",
   "execution_count": null,
   "metadata": {
    "collapsed": true
   },
   "outputs": [],
   "source": [
    "# Group datapoints by country, and render a line plot\n"
   ]
  },
  {
   "cell_type": "markdown",
   "metadata": {},
   "source": [
    "This breaks up the plot into five plots, each with the same *x*- and *y*-axes and scales. This allows for a direct visual comparison, where we can readily see the trends and variation on a continent-wise basis."
   ]
  },
  {
   "cell_type": "markdown",
   "metadata": {},
   "source": [
    "Similarly, we can split our larger scatterplot into twelve subplots by year, and see at a glance how the GDP *per capita* and life expectancy has varied over time, with a common log scale on the *y*- axis for each plot.\n",
    "\n",
    "```python\n",
    "p = ggplot(gapminder, aes(x='lifeExp', y='gdpPercap', color='continent'))\n",
    "p + geom_point() + scale_y_log() + facet_wrap('year')\n",
    "```\n",
    "\n",
    "***QUESTION:*** Can you tell how the relationship between GDP per capita and life expectancy changed in each continent, since 1980?"
   ]
  },
  {
   "cell_type": "code",
   "execution_count": null,
   "metadata": {
    "collapsed": true
   },
   "outputs": [],
   "source": [
    "# Create a facet plot by year of gdpPercap vs lifeExp, coloured by continent\n"
   ]
  },
  {
   "cell_type": "markdown",
   "metadata": {},
   "source": [
    "It is possible to create facets that are split on the basis of more than one variable. For example, we can plot data separately for each continent and year since 1980, with the code below:\n",
    "\n",
    "```python\n",
    "gapminder_recent = gapminder.loc[gapminder['year'] > 1980,]\n",
    "p = ggplot(gapminder_recent, aes(x='lifeExp', y='gdpPercap', color='continent'))\n",
    "p + geom_point() + scale_y_log() + facet_wrap('year', 'continent', ncol=5)\n",
    "```\n",
    "\n",
    "***QUESTION:*** How has the relationship between GDP per capita and life expectancy changed in each continent, since 1980?"
   ]
  },
  {
   "cell_type": "code",
   "execution_count": null,
   "metadata": {
    "collapsed": true
   },
   "outputs": [],
   "source": [
    "# Create a facet plot by year and continent, of gdpPercap vs lifeExp since 1980, coloured by continent\n"
   ]
  },
  {
   "cell_type": "code",
   "execution_count": null,
   "metadata": {
    "collapsed": true
   },
   "outputs": [],
   "source": []
  }
 ],
 "metadata": {
  "kernelspec": {
   "display_name": "Python 3",
   "language": "python",
   "name": "python3"
  },
  "language_info": {
   "codemirror_mode": {
    "name": "ipython",
    "version": 3
   },
   "file_extension": ".py",
   "mimetype": "text/x-python",
   "name": "python",
   "nbconvert_exporter": "python",
   "pygments_lexer": "ipython3",
   "version": "3.6.3"
  }
 },
 "nbformat": 4,
 "nbformat_minor": 1
}
