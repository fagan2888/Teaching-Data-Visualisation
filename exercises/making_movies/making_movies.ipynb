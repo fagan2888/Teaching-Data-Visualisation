{
 "cells": [
  {
   "cell_type": "markdown",
   "metadata": {},
   "source": [
    "# Making Movies with `matplotlib` <img src=\"images/JHI_STRAP_Web.png\" style=\"width: 150px; float: right;\">"
   ]
  },
  {
   "cell_type": "markdown",
   "metadata": {},
   "source": [
    "<div class=\"alert alert-success\">\n",
    "<h2>Introduction</h2>\n",
    "</div>\n",
    "\n",
    "<div class=\"alert alert-danger\">\n",
    "<b>This exercise will not work on MyBinder, or if you do not have appropriate third-party packages installed</b>\n",
    "</div>"
   ]
  },
  {
   "cell_type": "markdown",
   "metadata": {},
   "source": [
    "`matplotlib` provides tools for producing animations from its plots. Animations can provide compelling visuals to get ones point across, and represent information in ways that are not possible with static views. But these tools are not exempt from the usual principles of good graphical representation, and they also bring new considerations, such as presenting only single frame 'snapshots' of data at any one time, rather than a complete account of the dataset.\n",
    "\n",
    "<div class=\"alert alert-warning\">\n",
    "<b>NOTE:</b> Writing movies from <b>matplotlib</b> requires <b>FFmpeg</b> or <b>mencoder</b> to be installed - an additional requirement - and for an animated <b>.gif</b>, an extra step of encoding from <b>.mp4</b> is necessary.\n",
    "</div>\n",
    "\n",
    "* `FFmpeg`: [https://ffmpeg.org/](https://ffmpeg.org/)\n",
    "* `MPlayer`/`MEncoder`: [http://www.mplayerhq.hu](http://www.mplayerhq.hu/design7/news.html)"
   ]
  },
  {
   "cell_type": "markdown",
   "metadata": {},
   "source": [
    "`matplotlib`'s central animation functionality is built around the `animation` module, and in this exercise we will use the `FuncAnimation()` class to generate an animated view onto the `gapminder` data that is also used in the *Grammar of Graphics* exercise.\n",
    "\n",
    "![bubble chart output](images/intro_image.png)"
   ]
  },
  {
   "cell_type": "markdown",
   "metadata": {},
   "source": [
    "#### Python imports\n",
    "\n",
    "The code in the cell below suppresses noisy warnings from `matplotlib` and `pandas`"
   ]
  },
  {
   "cell_type": "code",
   "execution_count": null,
   "metadata": {
    "collapsed": true
   },
   "outputs": [],
   "source": [
    "import warnings\n",
    "warnings.filterwarnings('ignore')"
   ]
  },
  {
   "cell_type": "markdown",
   "metadata": {},
   "source": [
    "We will use the `pylab` *magic* to make `matplotlib` available, and import `seaborn` as the `sns` *namespace*. To import the Gapminder data we'll use `Pandas`, imported as the `pd` namespace.\n",
    "\n",
    "We also need to import the `animation` module explicitly, as this is not provided by `pylab`, and to visualise the animation in the notebook we need to enable generation of HTML5 movies with the `HTML` module from `IPython.display`.\n",
    "\n",
    "```python\n",
    "# Import ggplot and pandas modules\n",
    "%pylab inline\n",
    "\n",
    "from matplotlib import animation\n",
    "import seaborn as sns\n",
    "import pandas as pd\n",
    "\n",
    "from IPython.display import HTML\n",
    "```"
   ]
  },
  {
   "cell_type": "code",
   "execution_count": null,
   "metadata": {
    "collapsed": false
   },
   "outputs": [],
   "source": [
    "# Imports\n",
    "%pylab inline\n",
    "\n",
    "from matplotlib import animation\n",
    "import seaborn as sns\n",
    "import pandas as pd\n",
    "\n",
    "from IPython.display import HTML"
   ]
  },
  {
   "cell_type": "markdown",
   "metadata": {},
   "source": [
    "### Learning Outcomes\n",
    "\n",
    "* Understand `matplotlib`'s `animation` functionality\n",
    "* Generate animations using `FuncAnimation`\n",
    "* Generate line graph and bubble plot animations"
   ]
  },
  {
   "cell_type": "markdown",
   "metadata": {},
   "source": [
    "<div class=\"alert alert-success\">\n",
    "<h2>Exercise</h2>\n",
    "</div>"
   ]
  },
  {
   "cell_type": "markdown",
   "metadata": {},
   "source": [
    "<div class=\"alert alert-success\">\n",
    "<h3>1. Producing a Basic Animation</h3>\n",
    "</div>"
   ]
  },
  {
   "cell_type": "markdown",
   "metadata": {},
   "source": [
    "In this part of the exercise, you will produce an animation of a sine wave function, to explore the principles of the `FuncAnimation()` class.\n",
    "\n",
    "<div class=\"alert alert-warning\">\n",
    "The general principle of animation is that apparent movement is built up from a series of still images - <i>frames</i> - which switch too fast for the eye to perceive, giving the impression of movement. Here, each still image is a single <b>matplotlib</b> or <b>seaborn</b> plot.\n",
    "</div>\n",
    "\n",
    "The generation of individual images is handled by the `FuncAnimation()` class. This needs to know how many *frames* to draw, and the time interval between frames, so they can all be compiled together in a movie.\n",
    "\n",
    "To draw each frame, `FuncAnimation()` calls a function (which you will name below), which renders each frame in sequence, passing "
   ]
  },
  {
   "cell_type": "markdown",
   "metadata": {},
   "source": [
    "Firstly, you need to set up a `figure()` in which the plot will be rendered.\n",
    "\n",
    "Here, we will create the `figure()` object `fig`, and add subplot axes `ax` to describe the plot itself, setting *x*- and *y*-axis limits appropriate for a *sin* wave plot. So far, this is just like creating a static figure\n",
    "\n",
    "```python\n",
    "fig = figure()\n",
    "ax = fig.add_subplot(1, 1, 1,\n",
    "                     xlim=(0, 2), ylim=(-2, 2))\n",
    "```\n",
    "\n",
    "We want to draw a single line plot of *f(x) = sin(x)* where *x* is in the range [0, 2). To do this we would use a line plot, so we add an `ax.plot()` object, which holds the graphical object that will be drawn, and assign this to the variable `line`. Initially, we provide *empty data* in the form of two empty lists as *x* and *y* data, so that no line is drawn. We set a slightly thicker line than usual with `lw=2` as an option.\n",
    "\n",
    "```python\n",
    "line, = ax.plot([], [], lw=2)\n",
    "```\n",
    "\n",
    "We will also, for illustration, write some text to indicate which frame number is being rendered, using an `ax.text()` object. Again, initially this is set to an empty string to give a 'clean' plot:\n",
    "\n",
    "```python\n",
    "text = ax.text(0, 1.75, '')\n",
    "```"
   ]
  },
  {
   "cell_type": "code",
   "execution_count": null,
   "metadata": {
    "collapsed": false
   },
   "outputs": [],
   "source": [
    "# Use this cell to create the clean base plot with the code above\n"
   ]
  },
  {
   "cell_type": "markdown",
   "metadata": {},
   "source": [
    "The `animation.FuncAnimation()` function will allow us to specify an `init_func` which draws a clear frame; if we don't do this, then the first item in the sequence will be retained throughout the animation. We need, therefore, to provide a function that clears the data from the aniated graph.\n",
    "\n",
    "We will call this function `init_sine()` and use it to clear the `line` data and `text` string from the plot:\n",
    "\n",
    "```python\n",
    "def init_sine():\n",
    "    line.set_data([], [])\n",
    "    text.set_text('')\n",
    "    return(line, text)\n",
    "```"
   ]
  },
  {
   "cell_type": "code",
   "execution_count": null,
   "metadata": {
    "collapsed": true
   },
   "outputs": [],
   "source": [
    "# Create the function for init_func in this cell\n"
   ]
  },
  {
   "cell_type": "markdown",
   "metadata": {},
   "source": [
    "Now we create the function that will be called by `animation.FuncAnimation()`. We will call it `animate_sine()`, and it will receive the number of the frame being rendered, when it is called from `FuncAnimation()` - we catch this as the function parameter `i`.\n",
    "\n",
    "Within the body of the function we write the code to render the *sin* curve:\n",
    "\n",
    "```python\n",
    "def animate_sine(i):\n",
    "    x = linspace(0, 2, 1000)\n",
    "    y = sin(2 * pi * x)\n",
    "    line.set_data(x, y)\n",
    "    text.set_text('frame: {0}'.format(i))\n",
    "    return(line, text)\n",
    "```\n",
    "\n",
    "First we generate a *linear space* of 1000 *x* values in the range [0, 2), and then apply the function $y = \\sin(2\\pi x)$. This gives us two arrays of variables in `x` and `y`. These are then passed to the `line` object as the data to plot, with `line.set_data(x, y)`, and the frame number caught in the parameter `i` is written with `text.set_text()`."
   ]
  },
  {
   "cell_type": "code",
   "execution_count": null,
   "metadata": {
    "collapsed": false
   },
   "outputs": [],
   "source": [
    "# Create the animate_sine() function in this cell\n"
   ]
  },
  {
   "cell_type": "markdown",
   "metadata": {},
   "source": [
    "Now we can create the `FuncAnimation()` object, passing it the figure to render, and the initialisation (`init_sine()`) and animation (`animate_sine()`) functions, specifying the number of `frames` and the time `interval` between frames in ms. \n",
    "\n",
    "```python\n",
    "anim = animation.FuncAnimation(fig, animate_sine, init_func=init_sine,\n",
    "                               frames=100, interval=20, blit=True)\n",
    "```\n",
    "\n",
    "<div class=\"alert alert-warning\">\n",
    "The <b>blit</b> option tells the animation only to redraw elements of the plot that have changed, and speeds up rendering.\n",
    "</div>"
   ]
  },
  {
   "cell_type": "code",
   "execution_count": null,
   "metadata": {
    "collapsed": false
   },
   "outputs": [],
   "source": [
    "# Create the FuncAnimation object in this cell\n"
   ]
  },
  {
   "cell_type": "markdown",
   "metadata": {},
   "source": [
    "To render the animation in the notebook, we use the `FuncAnimation()` class' `to_html5_video()` method, and the `IPython` `HTML` class.\n",
    "\n",
    "```python\n",
    "HTML(anim.to_html5_video())\n",
    "```"
   ]
  },
  {
   "cell_type": "code",
   "execution_count": null,
   "metadata": {
    "collapsed": false
   },
   "outputs": [],
   "source": [
    "# Render the animation in this cell\n"
   ]
  },
  {
   "cell_type": "markdown",
   "metadata": {},
   "source": [
    "This may not be what you expect. There is clearly an animation, but while the frame number is being reported with each change of frame, the sine wave is not moving.\n",
    "\n",
    "The sine wave is being updated on each frame, but the same data is being plotted over and over again. We need to link the sine wave rendering with the frame number that's being passed, in order to cause the image to change.\n",
    "\n",
    "We can do this by changing the was `y` is specified in the `animate_sine()` function from `y = sin(2 * pi * x)` to an expression involving `i`, such as:\n",
    "\n",
    "```python\n",
    "y = sin(2 * pi * (x - 0.01 * i))\n",
    "```\n",
    "\n",
    "which steps the curve along the *x*-axis in increments of 0.01."
   ]
  },
  {
   "cell_type": "code",
   "execution_count": null,
   "metadata": {
    "collapsed": false
   },
   "outputs": [],
   "source": [
    "# Change the animate_sine() function in this cell, and rerender the animation.\n"
   ]
  },
  {
   "cell_type": "markdown",
   "metadata": {},
   "source": [
    "<div class=\"alert alert-success\">\n",
    "<h3>2. Animating gapminder Data</h3>\n",
    "</div>"
   ]
  },
  {
   "cell_type": "markdown",
   "metadata": {},
   "source": [
    "#### Importing data\n",
    "\n",
    "We will be importing data from the `R` package `gapminder`, which describes an excerpt of the Gapminder data on life expectancy, GDP per capita, and population by country. You will have used this data in the *Grammar of Graphics* exercise.\n",
    "\n",
    "* `gapminder` data: [R documentation](https://cran.r-project.org/web/packages/gapminder/index.html)\n",
    "\n",
    "This is located under this repository's root directory in the `data` subdirectory in tab-separated tabular format, as `gapminder.tab`. We can import this to a DataFrame in the variable `gapminder` using `pandas`:\n",
    "\n",
    "```python\n",
    "gapminder = pd.read_csv(\"../../data/gapminder.tab\", sep=\"\\t\")\n",
    "```"
   ]
  },
  {
   "cell_type": "code",
   "execution_count": null,
   "metadata": {
    "collapsed": true
   },
   "outputs": [],
   "source": [
    "# Import gapminder data in this cell\n"
   ]
  },
  {
   "cell_type": "markdown",
   "metadata": {},
   "source": [
    "#### Designing the plot\n",
    "\n",
    "Your goal in this part of the exercise will be to render an animation of life expectancy against GDP, by country, over time. This will eventually be rendered as a bubble plot, where the size of each bubble represents population size for that country."
   ]
  },
  {
   "cell_type": "markdown",
   "metadata": {},
   "source": [
    "We will begin by designing a single static representation of the bubble plot, for a single year (2002). For this, we'll create a subset of our data in the variable `gm2002`:\n",
    "\n",
    "```python\n",
    "gm2002 = gapminder.loc[gapminder['year']==2002,]\n",
    "```"
   ]
  },
  {
   "cell_type": "code",
   "execution_count": null,
   "metadata": {
    "collapsed": false
   },
   "outputs": [],
   "source": [
    "# Create gm2002 data subset here, and inspect it\n"
   ]
  },
  {
   "cell_type": "markdown",
   "metadata": {},
   "source": [
    "We'll piece together creation of a bubble plot showing life expectancy against GDP. First we need to set up a `figure()` and subplot axes, which we do as `fig2002` and `ax2002`:\n",
    "\n",
    "```python\n",
    "fig2002 = figure(figsize=(12, 9))\n",
    "ax2002 = fig2002.add_subplot(1, 1, 1)\n",
    "```\n",
    "\n",
    "To set axes limits, we'll add a little buffer beyond the minimum and maximum values for both GDP and life expectancy, so that we can accommodate some of the larger bubbles. We use `ax2002.set_xlim()` and `ax2002.set_ylim`, passing values derived from our dataset directly to set the limits:\n",
    "\n",
    "```python\n",
    "ax2002.set_xlim(floor(gm2002['gdpPercap'].min()) - 3000,\n",
    "                floor(gm2002['gdpPercap'].max()) + 1000)\n",
    "ax2002.set_ylim(floor(gm2002['lifeExp'].min()) - 10,\n",
    "                floor(gm2002['lifeExp'].max()) + 10)\n",
    "```\n",
    "\n",
    "We set axis labels in the same way:\n",
    "\n",
    "```python\n",
    "ax2002.set_xlabel('GDP per capita/$US\\nBubble size: population\\nYEAR: 2002')\n",
    "ax2002.set_ylabel('life expectancy/yr')\n",
    "```\n",
    "\n",
    "We'd like to set the colour of each bubble to represent something meaningful, such as continent. We'll do this by pairing up each unique continent name with a value from `seaborn` qualitative colour palette. This is a fairly fancy construction that does the following:\n",
    "\n",
    "* lists unique continent names in the data with `unique(gm2002['continent'])`\n",
    "* pairs these names with individual colours from `sns.color_palette()`\n",
    "* `zip()`s these values into `continent, colour` pairs\n",
    "* uses `dict()` to create a dictionary of `continent: colour` *key: value pairs* that can be used to shade bubbles in the plot\n",
    "\n",
    "The resulting dictionary is placed in the variable `cmap`:\n",
    "\n",
    "```python\n",
    "continents = unique(gm2002['continent'])\n",
    "cmap = dict(zip(continents, sns.color_palette()))\n",
    "```\n",
    "\n",
    "Next, we create two lists of values for each datapoint - one of `colors` and one of `sizes`, to shade and shape the bubbles. The `colors` list is compiled from the `cmap` dictionary above, but the `sizes` list is a straightforward transformation of the population data in `gm2002['pop']`, dividing it by `1e5` so that the bubbles are a reasonable size on the plot.\n",
    "\n",
    "```python\n",
    "colors = [cmap[con] for con in gm2002['continent']]\n",
    "sizes = gm2002['pop'] * 1e-5\n",
    "```\n",
    "\n",
    "Finally, we render the scatterplot, with *x*- data from `gm2002['gdpPercap']` and *y*-data from `gm2002['lifeExp']`. We pass size and colour information, and because there will be considerable overlap of points, we render everything with alpha transparency of `0.5`:\n",
    "\n",
    "\n",
    "```python\n",
    "for continent in continents:\n",
    "    data = gm2002.loc[gm2002['continent'] == continent,]\n",
    "    sizes = data['pop'] * 1e-5\n",
    "    ax2002.scatter(data['gdpPercap'], data['lifeExp'],\n",
    "                   s=sizes,\n",
    "                   alpha=0.5,\n",
    "                   c=cmap[continent])\n",
    "```"
   ]
  },
  {
   "cell_type": "code",
   "execution_count": null,
   "metadata": {
    "collapsed": false
   },
   "outputs": [],
   "source": [
    "# Render a static scatterplot in this cell\n"
   ]
  },
  {
   "cell_type": "markdown",
   "metadata": {},
   "source": [
    "#### Animating the plot\n",
    "\n",
    "Animating our data, the first thing to do is generate 'clean' base axes, setting axis limits on the basis of the complete `gapminder` dataset, and adding axes labels:\n",
    "\n",
    "```python\n",
    "figgdp = figure(figsize=(12, 9))\n",
    "axgdp = figgdp.add_subplot(1, 1, 1)\n",
    "\n",
    "axgdp.set_xlim(floor(gapminder['gdpPercap'].min()) - 10000,\n",
    "               60000)\n",
    "axgdp.set_ylim(floor(gapminder['lifeExp'].min()) - 10,\n",
    "               floor(gapminder['lifeExp'].max()) + 10)\n",
    "\n",
    "ax2002.set_xlabel('GDP per capita/$US\\nBubble size: population')\n",
    "ax2002.set_ylabel('life expectancy/yr')\n",
    "```"
   ]
  },
  {
   "cell_type": "code",
   "execution_count": null,
   "metadata": {
    "collapsed": false
   },
   "outputs": [],
   "source": [
    "# Create the clean base axes in this cell\n"
   ]
  },
  {
   "cell_type": "markdown",
   "metadata": {},
   "source": [
    "Next we create initial scatterplot data, for the first year in the data (1952), so that the animation has some initial datapoints to work with. First we extract the data for 1952:\n",
    "\n",
    "```python\n",
    "data = gapminder.loc[gapminder['year'] == 1952,]\n",
    "```\n",
    "\n",
    "Then we create lists of colour and size data for each country's datapoint, as before:\n",
    "\n",
    "```python\n",
    "sizes = data['pop'] * 1e-5\n",
    "colors = [cmap[con] for con in data['continent']]\n",
    "```\n",
    "\n",
    "We need to create a scatterplot that persists between frames, putting this in the variable `scat`. We will refer to the datapoints in this scatterplot in both the `init_func` and update functions of the `FuncAnimation()` object.\n",
    "\n",
    "```python\n",
    "scat = axgdp.scatter(data['gdpPercap'], data['lifeExp'], s=sizes, c=colors, alpha=0.5)\n",
    "```"
   ]
  },
  {
   "cell_type": "code",
   "execution_count": null,
   "metadata": {
    "collapsed": false
   },
   "outputs": [],
   "source": [
    "# Initialise the scatterplot data in this cell\n"
   ]
  },
  {
   "cell_type": "markdown",
   "metadata": {},
   "source": [
    "We need to create two functions, one to clear datapoints between frames (which will be passed as `init_func` to the `FuncAnimation` object), and another to update datapoints at each frame.\n",
    "\n",
    "To clear datapoints, we use the `set_offsets()` method of the scatterplot `scat`. This takes an $n \\times 2$ array (or an empty iterable) and updates the *x*,*y* coordinates of each datapoint in the scatterplot. Passing an empty iterable clears all the locations, rendering an empty scatterplot - so this is what we do in the function `init_gdp()`, which will be our 'reset' function between frames:\n",
    "\n",
    "```python\n",
    "def init_gdp():\n",
    "    scat.set_offsets([])\n",
    "    return(scat,)\n",
    "```\n",
    "\n",
    "To update datapoints, we need to translate the frame number into a year for which data can be plotted. As there are 12 years covered by the data (use `unique(gapminder['years'])` to see this), we will render 12 frames only in the animation, and use each frame number as an index onto the list of years covered, storing this in the variable `data`:\n",
    "\n",
    "```python\n",
    "year = unique(gapminder['year'])[frame_number]\n",
    "data = gapminder.loc[gapminder['year'] == year,]\n",
    "```\n",
    "\n",
    "Next, we'll use the data extracted only for that year to update the *x*,*y* coordinates for the scatterplot. We have to do some data-wrangling here, as we move from a `pandas` `DataFrame` to a `NumPy` `ndarray`, and we also have to transpose the data to put it in the correct orientation for `scat.set_offsets()` ($n \\times 2$):\n",
    "\n",
    "```python\n",
    "plotdata = transpose(asarray((data['gdpPercap'], data['lifeExp'])))\n",
    "scat.set_offsets(plotdata)\n",
    "```\n",
    "\n",
    "Now we will update the sizes of each scatterplot datapoint to reflect the population size:\n",
    "\n",
    "```python\n",
    "scat.set_sizes(data['pop'] * 1e-5)\n",
    "```\n",
    "\n",
    "and the *x*-axis label to indicate which year we are looking at:\n",
    "\n",
    "```python\n",
    "axgdp.set_xlabel('GDP per capita/$US\\nBubble size: population\\nYEAR: {0}'.format(year))\n",
    "```"
   ]
  },
  {
   "cell_type": "markdown",
   "metadata": {},
   "source": [
    "Putting this all together in the update function, catching the frame number in `frame_number`:\n",
    "\n",
    "```python\n",
    "def update_gdp(frame_number):\n",
    "    # Get year and data to be rendered\n",
    "    year = unique(gapminder['year'])[frame_number]\n",
    "    data = gapminder.loc[gapminder['year'] == year,]\n",
    "    \n",
    "    # Update scatterplot location data\n",
    "    plotdata = transpose(asarray((data['gdpPercap'], data['lifeExp'])))\n",
    "    scat.set_offsets(plotdata)\n",
    "    \n",
    "    # Update scatterplot sizes and axis label\n",
    "    scat.set_sizes(data['pop'] * 1e-5)\n",
    "    axgdp.set_xlabel('GDP per capita/$US\\nBubble size: population\\nYEAR: {0}'.format(year))\n",
    "    \n",
    "    return(scat,)\n",
    "```"
   ]
  },
  {
   "cell_type": "code",
   "execution_count": null,
   "metadata": {
    "collapsed": true
   },
   "outputs": [],
   "source": [
    "# Create the initialisation and update functions in this cell\n"
   ]
  },
  {
   "cell_type": "markdown",
   "metadata": {},
   "source": [
    "Finally, we can create an instance of `FuncAnimation()`, updating over 12 frames (one for each year), one every 0.5s, and visualising in the current notebook."
   ]
  },
  {
   "cell_type": "code",
   "execution_count": null,
   "metadata": {
    "collapsed": false
   },
   "outputs": [],
   "source": [
    "# Render the animation in this cell\n"
   ]
  },
  {
   "cell_type": "markdown",
   "metadata": {},
   "source": [
    "<div class=\"alert alert-success\">\n",
    "<h3>3. Saving movies</h3>\n",
    "</div>"
   ]
  },
  {
   "cell_type": "markdown",
   "metadata": {},
   "source": [
    "<div class=\"alert alert-danger\">\n",
    "<b>This part of the exercise will not work on MyBinder, or if you do not have appropriate third-party packages installed</b>\n",
    "</div>\n",
    "\n",
    "To write a movie to a file, you will need either the `FFmpeg` or `MEncoder` packages to be installed, as they provide the movie conversion capability for `matplotlib`."
   ]
  },
  {
   "cell_type": "markdown",
   "metadata": {},
   "source": [
    "The most straightforward way to write the output from one of the `FuncAnimation()` instances you created above is with the `FuncAnimation.save()` method:\n",
    "\n",
    "```python\n",
    "anim_gdp.save('bubble_chart.mp4')\n",
    "```\n",
    "\n",
    "The code above will write a default `.mp4` video to file using an appropriate conversion tool, but several options to control image size and conversion backend are available, as can be seen with `help(anim_gdp.save)`, e.g.\n",
    "\n",
    "```python\n",
    "anim_gdp.save('bubble_chart.m4v', writer=\"ffmpeg\", dpi=300, fps=2)\n",
    "```"
   ]
  },
  {
   "cell_type": "code",
   "execution_count": null,
   "metadata": {
    "collapsed": false
   },
   "outputs": [],
   "source": [
    "### Write the bubble chart animation to file\n"
   ]
  }
 ],
 "metadata": {
  "kernelspec": {
   "display_name": "Python 3",
   "language": "python",
   "name": "python3"
  },
  "language_info": {
   "codemirror_mode": {
    "name": "ipython",
    "version": 3
   },
   "file_extension": ".py",
   "mimetype": "text/x-python",
   "name": "python",
   "nbconvert_exporter": "python",
   "pygments_lexer": "ipython3",
   "version": "3.5.2"
  }
 },
 "nbformat": 4,
 "nbformat_minor": 0
}
