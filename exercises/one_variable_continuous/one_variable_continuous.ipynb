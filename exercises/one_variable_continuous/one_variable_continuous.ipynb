{
 "cells": [
  {
   "cell_type": "markdown",
   "metadata": {},
   "source": [
    "# One variable continuous data in `matplotlib` and `seaborn` <img src=\"images/JHI_STRAP_Web.png\" style=\"width: 150px; float: right;\">"
   ]
  },
  {
   "cell_type": "markdown",
   "metadata": {},
   "source": [
    "<div class=\"alert alert-success\">\n",
    "<h2>Introduction</h2>\n",
    "</div>"
   ]
  },
  {
   "cell_type": "markdown",
   "metadata": {},
   "source": [
    "This notebook exercise will describe visualisation of one-dimensional continuous data in `Python`, using the `matplotlib` and `seaborn` libraries.\n",
    "\n",
    "For these examples, we will work with randomly-sampled data from statistical distributions that you will generate using this notebook."
   ]
  },
  {
   "cell_type": "markdown",
   "metadata": {},
   "source": [
    "#### Python imports\n",
    "\n",
    "To view images in the notebook, we run a cell containing the line:\n",
    "\n",
    "```python\n",
    "%matplotlib inline\n",
    "```\n",
    "\n",
    "This will make `matplotlib` and `NumPy` libraries available to us in the notebook."
   ]
  },
  {
   "cell_type": "markdown",
   "metadata": {},
   "source": [
    "`Seaborn` can be imported with the following code:\n",
    "\n",
    "```python\n",
    "import seaborn as sns\n",
    "```"
   ]
  },
  {
   "cell_type": "code",
   "execution_count": null,
   "metadata": {},
   "outputs": [],
   "source": [
    "# Run the pylab magic in this cell\n",
    "%matplotlib inline\n",
    "\n",
    "# Import seaborn\n",
    "import seaborn as sns"
   ]
  },
  {
   "cell_type": "markdown",
   "metadata": {},
   "source": [
    "<div class=\"alert alert-warning\">\n",
    "<b>We will turn off distracting warning messages</b>\n",
    "</div>\n",
    "\n",
    "```python\n",
    "import warnings\n",
    "warnings.filterwarnings('ignore')\n",
    "```"
   ]
  },
  {
   "cell_type": "code",
   "execution_count": null,
   "metadata": {
    "collapsed": true
   },
   "outputs": [],
   "source": [
    "# Turn off warning messages\n",
    "import warnings\n",
    "warnings.filterwarnings('ignore')"
   ]
  },
  {
   "cell_type": "markdown",
   "metadata": {},
   "source": [
    "<div class=\"alert alert-warning\">\n",
    "<b>NOTE:</b> Even if you do not explicitly plot using <b>seaborn</b> as <b>sns</b>, importing it causes style changes from the <b>matplotlib</b> defaults.\n",
    "</div>\n"
   ]
  },
  {
   "cell_type": "markdown",
   "metadata": {},
   "source": [
    "![1D continous data subplots](images/intro_image.png)"
   ]
  },
  {
   "cell_type": "markdown",
   "metadata": {},
   "source": [
    "### Learning Outcomes\n",
    "\n",
    "* Generating randomly-distributed example data\n",
    "* Representing one-dimensional continuous-valued data with histograms, KDE plots, and rug plots\n",
    "* Using `matplotlib` and `seaborn` libraries\n",
    "* Presenting arrays of images\n",
    "* Use of `figure()` and `subplots()`"
   ]
  },
  {
   "cell_type": "markdown",
   "metadata": {},
   "source": [
    "<div class=\"alert alert-success\">\n",
    "<h2>Exercise</h2>\n",
    "</div>"
   ]
  },
  {
   "cell_type": "markdown",
   "metadata": {},
   "source": [
    "<div class=\"alert alert-success\">\n",
    "<h3>1. Creating a randomly-distributed 1D dataset</h3>\n",
    "</div>"
   ]
  },
  {
   "cell_type": "markdown",
   "metadata": {},
   "source": [
    "#### Creating the dataset\n",
    "\n",
    "The `Numpy` library contains a module called `random` which provides a number of utility functions for generating (pseudo-)random value data. This is imported when you use the `%pylab inline` magic, and you can find out more about this module with `help(random)`.\n",
    "\n",
    "We will use the `random.random()` function to generate 100 datapoints, which we will assign to the variable `data`. We will explore the distribution of this data graphically using `matplotlib`\n",
    "\n",
    "```python\n",
    "data = random.random(100)\n",
    "```\n",
    "\n",
    "Other random samplings are available, such as:\n",
    "\n",
    "* `random.randint(10, size=10)`: integers in a range\n",
    "* `random.randn(10)`: standard normal distribution\n",
    "* `random.negative_binomial(1, 0.1, 10)`: negative binomial distribution\n",
    "\n",
    "and so on. You should feel free to experiment with them using the code below"
   ]
  },
  {
   "cell_type": "code",
   "execution_count": null,
   "metadata": {},
   "outputs": [],
   "source": [
    "# Create the variable data, containing 100 random values, here\n"
   ]
  },
  {
   "cell_type": "markdown",
   "metadata": {},
   "source": [
    "<div class=\"alert alert-success\">\n",
    "<h3>2. Histogram</h3>\n",
    "</div>"
   ]
  },
  {
   "cell_type": "markdown",
   "metadata": {},
   "source": [
    "#### Base histogram\n",
    "\n",
    "[Histograms](http://www.datavizcatalogue.com/methods/histogram.html) show the distribution of data over a continuous interval. The total area of the histogram is considered to represent the number of datapoints, where the area of any bar is proportional to the frequency of datapoints in that interval, or *bin*.\n",
    "\n",
    "You can draw a basic histogram of your dataset using the `hist()` function, as in the code below:\n",
    "\n",
    "```python\n",
    "n, bins, patches = hist(data)\n",
    "```"
   ]
  },
  {
   "cell_type": "code",
   "execution_count": null,
   "metadata": {},
   "outputs": [],
   "source": [
    "# Draw basic histogram in this cell\n"
   ]
  },
  {
   "cell_type": "markdown",
   "metadata": {},
   "source": [
    "You will probably find this basic histogram to be pretty uninspiring. The colour choice is flat, and the whole appearance is quite blocky and uninformative. It also lacks a title or any other detail.\n",
    "\n",
    "The objects returned by the `hist()` function in the code above are:\n",
    "\n",
    "* `n`: an *array* of values for each bar in the histogram, reflecting its height on the *y*-axis\n",
    "* `bins`: an *array* of the breakpoints for each bin (where the edges of each bin lie on the *x*-axis)\n",
    "* `patches`: objects representing the graphical elements for each bar; these can be manipulated to modify the plot's appearance\n",
    "\n",
    "You can explore the contents of these variables in the cell below"
   ]
  },
  {
   "cell_type": "code",
   "execution_count": null,
   "metadata": {},
   "outputs": [],
   "source": [
    "# Explore the contents of n, bins, and patches in this cell\n"
   ]
  },
  {
   "cell_type": "markdown",
   "metadata": {},
   "source": [
    "#### Normalised histograms\n",
    "\n",
    "The base histogram above reports absolute counts of the data in each bin. A normalised histogram reports *frequencies*, essentially modifying bin heights so that the integral of the histogram (summed area of all the bars) is equal to unity (1). This makes the histogram equivalent to a (stepped) probability density curve.\n",
    "\n",
    "To generate a normalised histogram, you can set `normed=1` in the call to `hist()`:\n",
    "\n",
    "```python\n",
    "n, bins, patches = hist(data, normed=1)\n",
    "```"
   ]
  },
  {
   "cell_type": "code",
   "execution_count": null,
   "metadata": {},
   "outputs": [],
   "source": [
    "# Create a normalised histogram in this cell\n"
   ]
  },
  {
   "cell_type": "markdown",
   "metadata": {},
   "source": [
    "You will notice that the values on the *y*-axis have changed. \n",
    "\n",
    "<div class=\"alert alert-warning\">\n",
    "<b>NOTE:</b> For some distributions you may notice that, perhaps counter-intuitively, some of the bars may extend past the value 1.0 on the <i>y</i>-axis. This can occur when the width of the bar is less than 1, as the area of each bar is the width of the bin multiplied by its height.\n",
    "</div>"
   ]
  },
  {
   "cell_type": "markdown",
   "metadata": {},
   "source": [
    "#### Modifying histogram appearance, and `subplots`\n",
    "\n",
    "We can modify several aspects of the histogram's appearance (see, e.g. `help(hist)` for documentation) in the call to `hist()`:\n",
    "\n",
    "* `bins`: the number of bins into which the data will be divided\n",
    "* `facecolor`: the colour of each rectangle in the histogram\n",
    "* `alpha`: the transparency value for the rectangles histogram (useful when layering plots)\n",
    "\n",
    "We'll try this with the code below:\n",
    "\n",
    "```python\n",
    "n, bins, patches = hist(data, normed=1, bins=20, facecolor='green', alpha=0.6)\n",
    "```"
   ]
  },
  {
   "cell_type": "code",
   "execution_count": null,
   "metadata": {},
   "outputs": [],
   "source": [
    "# Modify the histogram appearance in this cell\n"
   ]
  },
  {
   "cell_type": "markdown",
   "metadata": {},
   "source": [
    "#### Stepfilling\n",
    "\n",
    "So far, our histograms have surrounded each of the bars with a border line. There is a different representation: `histtype=stepfilled`, which makes the plot look more like a density plot, which is appropriate when using a normalised histogram:\n",
    "\n",
    "```python\n",
    "n, bins, patches = hist(data, normed=1, bins=20, facecolor='green',\n",
    "                        alpha=0.6, histtype='stepfilled')\n",
    "```"
   ]
  },
  {
   "cell_type": "code",
   "execution_count": null,
   "metadata": {},
   "outputs": [],
   "source": [
    "# Create a stepfilled histogram\n"
   ]
  },
  {
   "cell_type": "markdown",
   "metadata": {},
   "source": [
    "<div class=\"alert alert-success\">\n",
    "<h3>3. Subplots and labels</h3>\n",
    "</div>"
   ]
  },
  {
   "cell_type": "markdown",
   "metadata": {},
   "source": [
    "We often wish to place multiple sets of axes on the same overall figure, to enable several related visualisations to be placed alongside each other. To do this, we place histograms - or any other plot - into *subplots*. \n",
    "\n",
    "The general approach for `matplotlib` is as follows:\n",
    "\n",
    "1. Create a `Figure()` object\n",
    "2. Add as many subplots (`Axes()`) to the `Figure()` as you require, specifying their location in a grid structure.\n",
    "3. Add your visualisations to the subplot (`Axes()`) objects\n",
    "\n",
    "<div class=\"alert alert-warning\">\n",
    "<b>NOTE:</b> An alternative approach to producing ordered arrangements of plots called <i>faceting</i> is available in other graphics libraries, and can be much simpler to use than this method. <i>Faceting</i> is dealt with in some of the other exercises in this set.\n",
    "</div>\n",
    "\n",
    "In the example below, we will create a 1x3 grid, and revisualise the three histograms from the examples above, with the code below:\n",
    "\n",
    "```python\n",
    "# Create figure\n",
    "fig = figure()\n",
    "\n",
    "# Create subplot axes\n",
    "ax1 = fig.add_subplot(1, 3, 1)  # 1x3 grid, position 1\n",
    "ax2 = fig.add_subplot(1, 3, 2)  # 1x3 grid, position 1\n",
    "ax3 = fig.add_subplot(1, 3, 3)  # 1x3 grid, position 1\n",
    "\n",
    "# Add histograms\n",
    "ax1.hist(data)\n",
    "ax2.hist(data, normed=1)\n",
    "ax3.hist(data, normed=1, bins=20, facecolor='green', alpha=0.6)\n",
    "```"
   ]
  },
  {
   "cell_type": "code",
   "execution_count": null,
   "metadata": {
    "scrolled": false
   },
   "outputs": [],
   "source": [
    "# Create 1x3 subplot of histograms in this cell\n"
   ]
  },
  {
   "cell_type": "markdown",
   "metadata": {},
   "source": [
    "The first run of this code will probably be a bit disappointing, as the default aspect ratio will likely make the output image appear cramped and untidy. We can change the overall aspect ratio (and make the figure clearer) by setting a larger overall figure size.\n",
    "\n",
    "The overall output size of the figure can be set with `figsize=(width, height)`, where `width` and `height` are the output image value in inches. We can set this with the following code:\n",
    "\n",
    "```python\n",
    "fig = figure(figsize=(10, 3))\n",
    "```"
   ]
  },
  {
   "cell_type": "code",
   "execution_count": null,
   "metadata": {},
   "outputs": [],
   "source": [
    "# Replot the subplots in this cell, with a larger figure size\n"
   ]
  },
  {
   "cell_type": "markdown",
   "metadata": {},
   "source": [
    "Modifications, such as addition of labels and titles, can be made to each individual axis in the figure, by calling methods for that plot axis specifically.\n",
    "\n",
    "Here, the first histogram (`ax1`) has a *y*-axis of absolute count, but the other two plots (`ax2`, `ax3`) have a *y*-axis of normalised frequency. All axes have `data` values along the *x*-axis.\n",
    "\n",
    "These axis objects are like any other Python object and we can treat them like any other object, so loop over them as in the code below:\n",
    "\n",
    "```python\n",
    "# Set first axis y-label\n",
    "ax1.set_ylabel('count')\n",
    "\n",
    "# Set second, third axes y-labels\n",
    "for axis in (ax2, ax3):\n",
    "    axis.set_ylabel('frequency')\n",
    "\n",
    "# Set all axes x-labels\n",
    "for axis in (ax1, ax2, ax3):\n",
    "    axis.set_xlabel('data')\n",
    "    \n",
    "# Set axis titles\n",
    "ax1.set_title('basic')\n",
    "ax2.set_title('normalised')\n",
    "ax3.set_title('modified')\n",
    "```\n",
    "\n",
    "These changes will modify the figure *in memory*, but won't change any already-rendered images. To see the changes, you have to show the contents of `fig` in an output cell again. First though, apply the `tight_layout()` method so that the labels do not overlap the graphs:\n",
    "\n",
    "```python\n",
    "fig.tight_layout()\n",
    "fig\n",
    "```\n",
    "\n",
    "* `matplotlib` tight layout guide: [http://matplotlib.org/users/tight_layout_guide.html](http://matplotlib.org/users/tight_layout_guide.html)"
   ]
  },
  {
   "cell_type": "code",
   "execution_count": null,
   "metadata": {},
   "outputs": [],
   "source": [
    "# Add axis labels in this cell, and rerender the image\n"
   ]
  },
  {
   "cell_type": "markdown",
   "metadata": {},
   "source": [
    "<div class=\"alert alert-success\">\n",
    "<h3>4. Density Plots</h3>\n",
    "</div>"
   ]
  },
  {
   "cell_type": "markdown",
   "metadata": {},
   "source": [
    "Histograms plot counts or frequencies of one-dimensional data. This gives a (necessarily) blocky representation of the raw data. An alternative representation is the *kernel density estimate* (KDE) plot which smooths the data (usually with a Gaussian basis function). \n",
    "\n",
    "* Kernel density estimation: [Wikipedia](https://en.wikipedia.org/wiki/Kernel_density_estimation)\n",
    "\n",
    "There is no KDE/density plot function in `matplotlib`, but the `kdeplot()` function in `seaborn` fits a KDE to a given dataset:\n",
    "\n",
    "```python\n",
    "sns.kdeplot(data)\n",
    "```"
   ]
  },
  {
   "cell_type": "code",
   "execution_count": null,
   "metadata": {},
   "outputs": [],
   "source": [
    "# Draw a seaborn kdeplot()\n"
   ]
  },
  {
   "cell_type": "markdown",
   "metadata": {},
   "source": [
    "`sns.kdeplot` offers quite a bit of control over the choice of kernel and bandwidth reference method for determination of kernel size. For more information see `help(sns.kdeplot)` or the documentation.\n",
    "\n",
    "* `sns.kdeplot()`: [documentation](https://stanford.edu/~mwaskom/software/seaborn/generated/seaborn.kdeplot.html)\n",
    "\n",
    "There are several options for kernel choice, e.g.:\n",
    "\n",
    "```python\n",
    "sns.kdeplot(data, kernel='cos')\n",
    "sns.kdeplot(data, kernel='epa')\n",
    "```\n",
    "\n",
    "and bandwidth can be varied, too:\n",
    "\n",
    "```python\n",
    "sns.kdeplot(data, kernel='epa', bw=2)\n",
    "sns.kdeplot(data, kernel='epa', bw='silverman')\n",
    "```"
   ]
  },
  {
   "cell_type": "code",
   "execution_count": null,
   "metadata": {},
   "outputs": [],
   "source": [
    "# Experiment with bandwidth and kernel choice for sns.kdeplot()\n"
   ]
  },
  {
   "cell_type": "markdown",
   "metadata": {},
   "source": [
    "#### Distribution plots with `seaborn`\n",
    "\n",
    "`seaborn` makes it easy to draw distribution plots combining three representations: histogram, KDE plot and *rug plot*, with the `sns.distplot()` function. By default, only the histogram and KDE plot are shown, but all three types can be controlled by specifying `hist=True`, `kde=True`, `rug=True` (or `False` in each case):\n",
    "\n",
    "```python\n",
    "sns.distplot(data, rug=True)\n",
    "```\n",
    "\n",
    "*Rug plots* draw small vertical ticks at each observation point, giving an alternative representation of data density.\n",
    "\n",
    "<div class=\"alert alert-warning\">\n",
    "<b>NOTE:</b> if only the histogram is drawn, the <i>y</i>-axis reverts to count data. Including the KDE sets the <i>y</i> axis to frequency, and essentially forces normalisation of the histogram.\n",
    "</div>\n"
   ]
  },
  {
   "cell_type": "code",
   "execution_count": null,
   "metadata": {},
   "outputs": [],
   "source": [
    "# Use sns.distplot() to render the data with a rug plot\n"
   ]
  },
  {
   "cell_type": "markdown",
   "metadata": {},
   "source": [
    "#### Subplots with `seaborn`\n",
    "\n",
    "Although `seaborn` graphs cannot be added to figure subplots on creation in *exactly* the same way as `matplotlib` graphs, some (including `sns.distplot`) can still be added by specifying the `ax` argument, as follows:\n",
    "\n",
    "```python\n",
    "sns.distplot(data, rug=True, ax=ax3, bins=20)\n",
    "```\n",
    "\n",
    "So code to generate three renderings of the same data, side-by-side, could be:\n",
    "\n",
    "```python\n",
    "# Create figure\n",
    "fig = figure(figsize=(16, 6))\n",
    "\n",
    "# Create subplot axes\n",
    "ax1 = fig.add_subplot(1, 3, 1)  # 1x3 grid, position 1\n",
    "ax2 = fig.add_subplot(1, 3, 2)  # 1x3 grid, position 1\n",
    "ax3 = fig.add_subplot(1, 3, 3)  # 1x3 grid, position 1\n",
    "\n",
    "# Set first axis y-label\n",
    "ax1.set_ylabel('count')\n",
    "\n",
    "# Set second, third axes y-labels\n",
    "for axis in (ax2, ax3):\n",
    "    axis.set_ylabel('frequency')\n",
    "\n",
    "# Set all axes x-labels\n",
    "for axis in (ax1, ax2, ax3):\n",
    "    axis.set_xlabel('data')  \n",
    "\n",
    "# Set axis titles\n",
    "ax1.set_title('histogram')\n",
    "ax2.set_title('KDE')\n",
    "ax3.set_title('distribution')\n",
    "\n",
    "# Plot histogram, KDE and all histogram/KDE/rug on three axes\n",
    "sns.distplot(data, kde=False, ax=ax1)\n",
    "sns.distplot(data, hist=False, ax=ax2)\n",
    "sns.distplot(data, rug=True, ax=ax3, bins=20)\n",
    "```"
   ]
  },
  {
   "cell_type": "code",
   "execution_count": null,
   "metadata": {},
   "outputs": [],
   "source": [
    "# Render three types of distribution plot with seaborn\n"
   ]
  }
 ],
 "metadata": {
  "kernelspec": {
   "display_name": "Python 3",
   "language": "python",
   "name": "python3"
  },
  "language_info": {
   "codemirror_mode": {
    "name": "ipython",
    "version": 3
   },
   "file_extension": ".py",
   "mimetype": "text/x-python",
   "name": "python",
   "nbconvert_exporter": "python",
   "pygments_lexer": "ipython3",
   "version": "3.6.1"
  },
  "widgets": {
   "state": {},
   "version": "1.1.1"
  }
 },
 "nbformat": 4,
 "nbformat_minor": 1
}
