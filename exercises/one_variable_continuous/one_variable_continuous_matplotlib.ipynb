{
 "cells": [
  {
   "cell_type": "markdown",
   "metadata": {},
   "source": [
    "# One variable continuous data in `matplotlib` <img src=\"images/JHI_STRAP_Web.png\" style=\"width: 150px; float: right;\">"
   ]
  },
  {
   "cell_type": "markdown",
   "metadata": {},
   "source": [
    "<div class=\"alert alert-success\">\n",
    "<h2>Introduction</h2>\n",
    "</div>"
   ]
  },
  {
   "cell_type": "markdown",
   "metadata": {},
   "source": [
    "This notebook exercise will take you through the visualisation of one-dimensional continuous data in `Python`, using `matplotlib`.\n",
    "\n",
    "For these examples, we will work with randomly-sampled data from statistical distributions."
   ]
  },
  {
   "cell_type": "markdown",
   "metadata": {},
   "source": [
    "### Learning Outcomes\n",
    "\n",
    "* Learn how to represent one-dimensional continuous-valued data using `matplotlib`\n",
    "* Learn good data visualisation practice"
   ]
  },
  {
   "cell_type": "markdown",
   "metadata": {},
   "source": [
    "<div class=\"alert alert-success\">\n",
    "<h2>Exercise</h2>\n",
    "</div>"
   ]
  },
  {
   "cell_type": "markdown",
   "metadata": {},
   "source": [
    "#### Setting up `pylab`\n",
    "\n",
    "To set up `pylab`, we run a cell containing the line:\n",
    "\n",
    "```python\n",
    "%pylab inline\n",
    "```\n",
    "\n",
    "This will make `matplotlib` and `NumPy` libraries available to us in the notebook."
   ]
  },
  {
   "cell_type": "code",
   "execution_count": 1,
   "metadata": {
    "collapsed": false
   },
   "outputs": [
    {
     "name": "stdout",
     "output_type": "stream",
     "text": [
      "Populating the interactive namespace from numpy and matplotlib\n"
     ]
    }
   ],
   "source": [
    "# Run the pylab magic in this cell\n",
    "%pylab inline"
   ]
  },
  {
   "cell_type": "markdown",
   "metadata": {},
   "source": [
    "The `Numpy` library contains a module called `random` which provides a number of utility functions for generating (pseudo-)random value data. Once `pylab` is running, you can find out more about this module with `help(random)`.\n",
    "\n",
    "We will use the `random.random()` function to generate 100 datapoints in the variable `data`, whose distribution we will explore graphically using `matplotlib`\n",
    "\n",
    "```python\n",
    "data = random.random(100)\n",
    "```"
   ]
  },
  {
   "cell_type": "code",
   "execution_count": 2,
   "metadata": {
    "collapsed": false
   },
   "outputs": [],
   "source": [
    "# Create the variable data containing 100 random values, here\n",
    "data = random.random(100)"
   ]
  },
  {
   "cell_type": "markdown",
   "metadata": {},
   "source": [
    "<div class=\"alert alert-success\">\n",
    "<h3>1. Histogram</h3>\n",
    "</div>"
   ]
  },
  {
   "cell_type": "markdown",
   "metadata": {},
   "source": [
    "[Histograms](http://www.datavizcatalogue.com/methods/histogram.html) represent the distribution of data over a continuous interval. The total area of the histogram is considered equal to the number of datapoints, and the area of each bar represents the frequency of datapoints in each interval, or *bin*.\n",
    "\n",
    "We can draw a basic histogram of our data with the code below, using the `hist()` function:\n",
    "\n",
    "```python\n",
    "n, bins, patches = hist(data)\n",
    "```"
   ]
  },
  {
   "cell_type": "code",
   "execution_count": 3,
   "metadata": {
    "collapsed": false
   },
   "outputs": [
    {
     "data": {
      "image/png": "[encoded data removed]",
      "text/plain": [
       "<matplotlib.figure.Figure at 0x10a4d7940>"
      ]
     },
     "metadata": {},
     "output_type": "display_data"
    }
   ],
   "source": [
    "# Draw basic histogram in this cell\n",
    "n, bins, patches = hist(data)"
   ]
  },
  {
   "cell_type": "markdown",
   "metadata": {},
   "source": [
    "You will probably find this basic histogram to be pretty uninspiring. The colour choice is flat, and the whole appearance is quite blocky and uninformative. It lacks a title or any other detail.\n",
    "\n",
    "The objects returned by the `hist()` function are:\n",
    "\n",
    "* `n`: an array of values for each bar in the histogram, reflecting its height on the *y*-axis\n",
    "* `bins`: an array of the minimum values for each bin (breakpoints)\n",
    "* `patches`: objects representing the graphical elements for each bar\n",
    "\n",
    "You can explore the contents of these variables in the cell below"
   ]
  },
  {
   "cell_type": "code",
   "execution_count": 4,
   "metadata": {
    "collapsed": false
   },
   "outputs": [
    {
     "data": {
      "text/plain": [
       "array([ 0.00852676,  0.10731072,  0.20609468,  0.30487863,  0.40366259,\n",
       "        0.50244655,  0.6012305 ,  0.70001446,  0.79879842,  0.89758237,\n",
       "        0.99636633])"
      ]
     },
     "execution_count": 4,
     "metadata": {},
     "output_type": "execute_result"
    }
   ],
   "source": [
    "# Explore the contents of n, bins, and patches in this cell\n",
    "bins"
   ]
  },
  {
   "cell_type": "code",
   "execution_count": null,
   "metadata": {
    "collapsed": true
   },
   "outputs": [],
   "source": []
  }
 ],
 "metadata": {
  "kernelspec": {
   "display_name": "Python 3",
   "language": "python",
   "name": "python3"
  },
  "language_info": {
   "codemirror_mode": {
    "name": "ipython",
    "version": 3
   },
   "file_extension": ".py",
   "mimetype": "text/x-python",
   "name": "python",
   "nbconvert_exporter": "python",
   "pygments_lexer": "ipython3",
   "version": "3.5.1"
  },
  "widgets": {
   "state": {},
   "version": "1.1.1"
  }
 },
 "nbformat": 4,
 "nbformat_minor": 0
}
