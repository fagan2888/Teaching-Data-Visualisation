{
 "cells": [
  {
   "cell_type": "markdown",
   "metadata": {},
   "source": [
    "# Two variable continuous *x* and *y* in `matplotlib` and `seaborn` <img src=\"images/JHI_STRAP_Web.png\" style=\"width: 150px; float: right;\">"
   ]
  },
  {
   "cell_type": "markdown",
   "metadata": {},
   "source": [
    "<div class=\"alert alert-success\">\n",
    "<h2>Introduction</h2>\n",
    "</div>"
   ]
  },
  {
   "cell_type": "markdown",
   "metadata": {},
   "source": [
    "This notebook exercise will describe visualisation of one-dimensional continuous data in `Python`, using the `matplotlib` and `seaborn` libraries.\n",
    "\n",
    "For these examples, we will work with data concerning airline safety from the `FiveThirtyEight` article:\n",
    "\n",
    "* Should Travelers Avoid Flying Airlines That Have Had Crashes in the Past?: [link](http://fivethirtyeight.com/features/should-travelers-avoid-flying-airlines-that-have-had-crashes-in-the-past/)\n",
    "\n",
    "This data is located in the file `data/airline-safety.csv`, in the root repository. We will look at the relationship between 'incidents' and 'fatalities' in the two 14-year periods: 1985-1999, and 2000-2014, to visualise (and maybe infer) whether there appears to be a relationship between the two, and perhaps a predictive relationship.\n",
    "\n",
    "![continuous x, y data example](images/intro_image_continuous_xy.png)"
   ]
  },
  {
   "cell_type": "markdown",
   "metadata": {},
   "source": [
    "#### Python imports\n",
    "\n",
    "To set up `pylab`, we run the *magic*:\n",
    "\n",
    "```python\n",
    "%pylab inline\n",
    "```\n",
    "\n",
    "and we import `seaborn` and `pandas` into the namespaces `sns` and `pd`:\n",
    "\n",
    "```python\n",
    "import seaborn as sns\n",
    "import pandas as pd\n",
    "```\n",
    "\n",
    "To do regression later on, we import `scipy.stats` as `stats`:\n",
    "\n",
    "```python\n",
    "from scipy import stats\n",
    "```\n",
    "\n",
    "We will suppress warnings:\n",
    "\n",
    "```python\n",
    "import warnings\n",
    "warnings.filterwarnings('ignore')\n",
    "```"
   ]
  },
  {
   "cell_type": "code",
   "execution_count": null,
   "metadata": {
    "collapsed": false
   },
   "outputs": [],
   "source": [
    "# Use the pylab magic and import seaborn\n",
    "%pylab inline\n",
    "\n",
    "import seaborn as sns\n",
    "import pandas as pd\n",
    "from scipy import stats\n",
    "\n",
    "# Suppress warnings\n",
    "import warnings\n",
    "warnings.filterwarnings('ignore')"
   ]
  },
  {
   "cell_type": "markdown",
   "metadata": {},
   "source": [
    "### Learning Outcomes\n",
    "\n",
    "* Representing two-dimensional continuous *x* and *y* data using `matplotlib` and `seaborn` libraries\n",
    "* Use of `figure()` and subplots\n",
    "* Annotating plots with text\n",
    "* Working with long and wide form DataFrame\n",
    "* Using statistical overlays and `seaborn`'s statistical plots"
   ]
  },
  {
   "cell_type": "markdown",
   "metadata": {},
   "source": [
    "<div class=\"alert alert-success\">\n",
    "<h2>Exercise</h2>\n",
    "</div>"
   ]
  },
  {
   "cell_type": "markdown",
   "metadata": {},
   "source": [
    "<div class=\"alert alert-success\">\n",
    "<h3>1. Loading the dataset</h3>\n",
    "</div>"
   ]
  },
  {
   "cell_type": "markdown",
   "metadata": {},
   "source": [
    "We will load the data from `FiveThirtyEight` (downloaded from [https://github.com/fivethirtyeight](https://github.com/fivethirtyeight), which describes for a set of airlines the number of seat kilometres flown every week, and corresponding counts for incidents, fatal accidents and fatalities in the two 14-year periods 1985-1999 and 2000-2014.\n",
    "\n",
    "* `FiveThirtyEight` data: [https://github.com/fivethirtyeight](https://github.com/fivethirtyeight)\n",
    "* `pandas`: [documentation](http://pandas.pydata.org/pandas-docs/stable/)\n",
    "\n",
    "This is located under this repository's root directory in the `data` subdirectory in comma-separated variable format, as `airline-safety.csv`. We can import this to a DataFrame in the variable `safety` using `pandas`:\n",
    "\n",
    "```python\n",
    "safety = pd.read_csv(\"../../data/airline-safety.csv\", sep=\",\")\n",
    "```\n",
    "\n",
    "and we can inspect it with a number of useful DataFrame methods:\n",
    "\n",
    "* `safety.head()`\n",
    "* `safety.describe()`\n",
    "* `safety.dtypes`"
   ]
  },
  {
   "cell_type": "code",
   "execution_count": null,
   "metadata": {
    "collapsed": true
   },
   "outputs": [],
   "source": [
    "# Load the airline safety data into the variable safety\n"
   ]
  },
  {
   "cell_type": "code",
   "execution_count": null,
   "metadata": {
    "collapsed": false
   },
   "outputs": [],
   "source": [
    "# Inspect the data set using this cell\n"
   ]
  },
  {
   "cell_type": "markdown",
   "metadata": {},
   "source": [
    "<div class=\"alert alert-success\">\n",
    "<h3>2. Inspecting the data</h3>\n",
    "</div>"
   ]
  },
  {
   "cell_type": "markdown",
   "metadata": {},
   "source": [
    "One of the more straightforward ways to gain a quick overview of continuous *x*, *y* data is with a *scatterplot*. In terms of elementary perceptual tasks, this places datapoints on a plane, with two common scales: one on the *x*-axis and one on the *y*-axis.\n",
    "\n",
    "<div class=\"alert alert-warning\">\n",
    "Scatterplots can be converted into <i>bubble plots</i> (incorporating the perceptual task of *area comparison*) by making the size of the marker dependent on a third variable. We will not be doing this here, but see the <b>making_movies.ipynb</b> exercise for an example of this.\n",
    "</div>\n",
    "\n",
    "We will begin by drawing six subplots, in two rows of three:\n",
    "\n",
    "* Row 1: incidents, fatal incidents and fatalities for 1985-1999\n",
    "* Row 2: incidents, fatal incidents and fatalities for 2000-2014\n",
    "\n",
    "Each subplot will contain a scatterplot, with *x*-axis equal to the number of seat kilometres flown, and the *y*-axis representing each of the datasets above."
   ]
  },
  {
   "cell_type": "markdown",
   "metadata": {},
   "source": [
    "#### Creating subplots and axis labels\n",
    "\n",
    "There are several ways to create a subplot layout in `matplotlib`. Here, we will use the `subplots()` function. This returns a `figure()` object, and collections of subplots, nested by row. To get two rows of three subplots, we can use the following code:\n",
    "\n",
    "```python\n",
    "fig, ((ax1, ax2, ax3), (ax4, ax5, ax6)) = subplots(nrows=2, ncols=3, figsize=(12, 8))\n",
    "```\n",
    "\n",
    "Here, `figsize` takes a tuple of `(width, height)` for the figure, in inches."
   ]
  },
  {
   "cell_type": "code",
   "execution_count": null,
   "metadata": {
    "collapsed": false
   },
   "outputs": [],
   "source": [
    "# Create axes in this cell, with tight_layout()\n"
   ]
  },
  {
   "cell_type": "markdown",
   "metadata": {},
   "source": [
    "We can refer to these subplots collectively to set *x*-axis labels, e.g. by creating the variable `axes` that holds a list of the six axes, and then looping over them to apply the *x*-axis label individually:\n",
    "\n",
    "```python\n",
    "axes = (ax1, ax2, ax3, ax4, ax5, ax6)\n",
    "for ax in axes:\n",
    "    ax.set_xlabel(\"km flown\")\n",
    "```\n",
    "\n",
    "To show the modified figure, use:\n",
    "\n",
    "```python\n",
    "fig\n",
    "```"
   ]
  },
  {
   "cell_type": "code",
   "execution_count": null,
   "metadata": {
    "collapsed": false
   },
   "outputs": [],
   "source": [
    "# Set axes xlabels in this cell\n"
   ]
  },
  {
   "cell_type": "markdown",
   "metadata": {},
   "source": [
    "We can pair up axes to write the *y*-axis labels, similarly. This time, we pair axes in *tuples*, and associate those pairs with the corresponding *y*-axis label, in another tuple. All of these tuples are then placed in the list `ylabels`. We can then loop over the list and unpack the axes and the labels that need to be applied:\n",
    "\n",
    "```python\n",
    "ylabels = [((ax1, ax4), 'incidents'),\n",
    "           ((ax2, ax5), 'fatal incidents'),\n",
    "           ((ax3, ax6), 'fatalities')]\n",
    "for axes, label in ylabels:\n",
    "    for ax in axes:\n",
    "        ax.set_ylabel(label)\n",
    "```\n",
    "\n",
    "And to get nice separation of subplots in the grid layout so that the axis labels don't overlap, we can use `fig.tight_layout()`:\n",
    "\n",
    "```python\n",
    "fig.tight_layout()\n",
    "```"
   ]
  },
  {
   "cell_type": "code",
   "execution_count": null,
   "metadata": {
    "collapsed": false
   },
   "outputs": [],
   "source": [
    "# Set y-axis labels in this cell\n"
   ]
  },
  {
   "cell_type": "markdown",
   "metadata": {},
   "source": [
    "***CHALLENGE:*** Can you set subplot titles on the top row to read `1985-1999`, and on the lower row to read `2000-2014`?"
   ]
  },
  {
   "cell_type": "code",
   "execution_count": null,
   "metadata": {
    "collapsed": false
   },
   "outputs": [],
   "source": [
    "# Complete the challenge in this cell\n"
   ]
  },
  {
   "cell_type": "markdown",
   "metadata": {},
   "source": [
    "#### Plotting the data\n",
    "\n",
    "There are seven columns in the data, and we're plotting them all on the same *x*-axes - so we loop over the six columns, putting data into the appropriate subplot.\n",
    "\n",
    "```python\n",
    "datacols = [(ax1, 'incidents_85_99'), (ax2, 'fatal_accidents_85_99'),\n",
    "            (ax3, 'fatalities_85_99'), (ax4, 'incidents_00_14'),\n",
    "            (ax5, 'fatal_accidents_00_14'), (ax6, 'fatalities_00_14')]\n",
    "for ax, col in datacols:\n",
    "    ax.scatter(safety['avail_seat_km_per_week'], safety[col])\n",
    "```"
   ]
  },
  {
   "cell_type": "code",
   "execution_count": null,
   "metadata": {
    "collapsed": false
   },
   "outputs": [],
   "source": [
    "# Plot the data in each scatterplot\n"
   ]
  },
  {
   "cell_type": "markdown",
   "metadata": {},
   "source": [
    "From these scatterplots we can see that the overall relationship is consistently that the more miles are flown by an airline, the more incidents of any type are seen, and:\n",
    "\n",
    "* there is a strong outlier in 1985-1999 for number of incidents per seat km flown.\n",
    "* the number of fatalities does not appear to correlate strongly with km flown\n",
    "* the number of fatal incidents is small for any given airline - especially in the period 2000-2014"
   ]
  },
  {
   "cell_type": "markdown",
   "metadata": {},
   "source": [
    "<div class=\"alert alert-success\">\n",
    "<h3>3. Long and wide form data, faceting</h3>\n",
    "</div>"
   ]
  },
  {
   "cell_type": "markdown",
   "metadata": {},
   "source": [
    "The six plots above suggest that a statistical summary plot might be useful, fitting a linear regression to each of the six subplots. We can do this using the specialist `lmplot()` in `seaborn` to replace the `matplotlib.scatter()` plots we drew above.\n",
    "\n",
    "There's one slight niggle with this approach - we have to reconfigure our `safety` data, casting it from *wide* to *long* format, so we can use *faceting* to produce one subplot per variable type.\n",
    "\n",
    "We do this with `pd.melt()`, a `pandas` function that lets us 'melt' all our data into a long table where all variable names are placed in a single column, and the values for those variables placed alongside in the same row.\n",
    "\n",
    "* `pandas` function `pd.melt()`: [docs](http://pandas.pydata.org/pandas-docs/stable/generated/pandas.melt.html)\n",
    "* 'melting' data: [blog post](http://www.r-bloggers.com/melt/)"
   ]
  },
  {
   "cell_type": "markdown",
   "metadata": {},
   "source": [
    "To melt the data, we need to specify which column uniquely identifies data points - here it's the airline name, in columns `airline`. We want to preserve the `avail_seat_km_per_week` for plotting as *x*-data, but all other columns are data columns that we want to melt, so we can create the new DataFrame `safety_long`:\n",
    "\n",
    "```python\n",
    "safety_long = pd.melt(safety, id_vars='airline',\n",
    "                      value_vars=['avail_seat_km_per_week', 'incidents_85_99',\n",
    "                                  'fatal_accidents_85_99', 'fatalities_85_99',\n",
    "                                  'incidents_00_14', 'fatal_accidents_00_14',\n",
    "                                  'fatalities_00_14'])\n",
    "```\n",
    "\n",
    "This converts our data from a $56 \\times 8$ to a $336 \\times 4$ DataFrame. You can inspect the changes with:\n",
    "\n",
    "* safety_long.head()\n",
    "* safety_long.describe()\n",
    "* safety_long.dtypes"
   ]
  },
  {
   "cell_type": "code",
   "execution_count": null,
   "metadata": {
    "collapsed": false
   },
   "outputs": [],
   "source": [
    "# Melt the data into long form and inspect the output in this cell\n"
   ]
  },
  {
   "cell_type": "markdown",
   "metadata": {},
   "source": [
    "Now we can use `sms.lmplot()` to render six scatterplots - one for each variable in the order : `'incidents_85_99', 'fatal_accidents_85_99', 'fatalities_85_99', 'incidents_00_14', 'fatal_accidents_00_14', 'fatalities_00_14'` - with overlaid linear regression on each plot.\n",
    "\n",
    "* `sms.lmplot()`: [docs](https://stanford.edu/~mwaskom/software/seaborn/generated/seaborn.lmplot.html)\n",
    "\n",
    "We need to set the *x*, *y* data, and the originating dataset as:\n",
    "\n",
    "* `x`: `'avail_seat_km_per_week'` (common to all plots)\n",
    "* `y`: `'value'` (the data value for each variable)\n",
    "* `data`: `safety_long` (the originating DataFrame)\n",
    "\n",
    "We split/*facet* the plot into six subplots on the basis of the six variables, by setting the following:\n",
    "\n",
    "* `col`: `'variable'` (split into separate plots on the basis of the variable names)\n",
    "* `hue`: `'variable'` (colour each variable plot differently)\n",
    "* `col_wrap`: `3` (wrap each row at three plots, so we get a 2x3 grid)\n",
    "\n",
    "Finally, as the values vary greatly between the six plots, we will relax the default setting that they share *y*-axes:\n",
    "\n",
    "* `sharey`: `False`\n",
    "\n",
    "So the line that generates our faceted grid plot is:\n",
    "\n",
    "```python\n",
    "sns.lmplot(x='avail_seat_km_per_week', y='value', data=safety_long,\n",
    "           col='variable', hue='variable', col_wrap=3, sharey=False);\n",
    "```"
   ]
  },
  {
   "cell_type": "code",
   "execution_count": null,
   "metadata": {
    "collapsed": false
   },
   "outputs": [],
   "source": [
    "# Create the faceted lmplot in this cell\n"
   ]
  },
  {
   "cell_type": "markdown",
   "metadata": {},
   "source": [
    "Visually, it appears that `seaborn`'s linear fitting suggests a relationship between km flown and total incidents and fatal incidents, but not with total fatalities. Unfortunately, at time of writing, `seaborn` does not permit recovery of the fitted parameters from these plots."
   ]
  },
  {
   "cell_type": "markdown",
   "metadata": {},
   "source": [
    "<div class=\"alert alert-success\">\n",
    "<h3>4. Annotating plots in matplotlib</h3>\n",
    "</div>"
   ]
  },
  {
   "cell_type": "markdown",
   "metadata": {},
   "source": [
    "The [original blog post](http://fivethirtyeight.com/features/should-travelers-avoid-flying-airlines-that-have-had-crashes-in-the-past/) focuses on whether the number of incidents per airline in 1985-1999 is predictive of the number of incidents per airline in 2000-2014. We will attempt to emulate the plot of incidents per airline in each time period:\n",
    "\n",
    "![FiveThirtyEight plot](http://i1.wp.com/espnfivethirtyeight.files.wordpress.com/2014/07/silver-datalab-airlines-safety-3.png?quality=90&strip=all&w=575)"
   ]
  },
  {
   "cell_type": "markdown",
   "metadata": {},
   "source": [
    "#### Adjusting the data\n",
    "\n",
    "The first thing to note is that the incident data are normalised per 1e9 seat km, which is a sensible measure, and suggested by our scatterplots above. We generate two new DataFrame columns to hold this data:\n",
    "\n",
    "```python\n",
    "safety['x_norm'] = 1e9 * safety['incidents_85_99']/safety['avail_seat_km_per_week']\n",
    "safety['y_norm'] = 1e9 * safety['incidents_00_14']/safety['avail_seat_km_per_week']\n",
    "```"
   ]
  },
  {
   "cell_type": "code",
   "execution_count": null,
   "metadata": {
    "collapsed": false
   },
   "outputs": [],
   "source": [
    "# Normalise data in this cell\n"
   ]
  },
  {
   "cell_type": "markdown",
   "metadata": {},
   "source": [
    "Next, we want to fit a linear regression to this data. We use the `scipy.stats.linregress` function for this, to capture some regression information:\n",
    "\n",
    "* `np.polyfit`: [docs](http://docs.scipy.org/doc/numpy/reference/generated/numpy.polyfit.html)\n",
    "* `stats.linregress`: [docs](http://docs.scipy.org/doc/scipy-0.14.0/reference/generated/scipy.stats.linregress.html)\n",
    "\n",
    "```python\n",
    "slope, intercept, r_value, p_value, std_err = stats.linregress(safety['x_norm'],\n",
    "                                                               safety['y_norm'])\n",
    "```\n",
    "\n",
    "This returns several useful regression values that we will add to the plot later."
   ]
  },
  {
   "cell_type": "code",
   "execution_count": null,
   "metadata": {
    "collapsed": false
   },
   "outputs": [],
   "source": [
    "# Fit a linear regression to the normalised data\n"
   ]
  },
  {
   "cell_type": "markdown",
   "metadata": {},
   "source": [
    "Now we want to create a figure with axes, on which we can plot firstly a line that represent the liear regression fit (in red), and then the normalised data points for each airline's incidents per seat km travelled:\n",
    "\n",
    "```python\n",
    "fig, ax = subplots(figsize=(8, 8))\n",
    "ax.plot(safety['x_norm'], fit[0] * safety['x_norm'] + fit[1], c='red', alpha=0.6)\n",
    "ax.scatter(safety['x_norm'], safety['y_norm'], s=60, alpha=0.4, c='black')\n",
    "```\n",
    "\n",
    "Next we set labels and *x* and *y* axis limits to match the blogpost, and square up the aspect ratio with `ax.set_aspect('equal'):\n",
    "\n",
    "```python\n",
    "ax.set_xlabel('1985-99', fontsize=15)\n",
    "ax.set_ylabel('2000-14', fontsize=15)\n",
    "ax.set_title('Incidents by Airline Are Slightly Predictable', fontsize=20)\n",
    "ax.set_xlim((-5, 100))\n",
    "ax.set_ylim((-5, 100))\n",
    "ax.set_aspect('equal')\n",
    "```"
   ]
  },
  {
   "cell_type": "code",
   "execution_count": null,
   "metadata": {
    "collapsed": false
   },
   "outputs": [],
   "source": [
    "# Plot the figure in this cell:\n",
    "# Plot regression line and scatterplot\n",
    "\n",
    "# Add labels and set aspect ratio\n"
   ]
  },
  {
   "cell_type": "markdown",
   "metadata": {},
   "source": [
    "This corroborates the modest positive correlation that is reported in the blog, but we have yet to identify and label outliers.\n",
    "\n",
    "Firstly, we will identify all points with more than 20 incidents in the period 1985-1999, placing them in the DataFrame `outliers`:\n",
    "\n",
    "```python\n",
    "outliers = safety.loc[safety['x_norm'] > 20,]\n",
    "outliers\n",
    "```"
   ]
  },
  {
   "cell_type": "code",
   "execution_count": null,
   "metadata": {
    "collapsed": false
   },
   "outputs": [],
   "source": [
    "# Identify outliers with more than 20 incidents in 1985-99\n"
   ]
  },
  {
   "cell_type": "markdown",
   "metadata": {},
   "source": [
    "Now we want to add text for each of these table rows, at the *x*,*y* position corresponding to their datapoints. To do this, we iterate over each row in `outliers` in turn, using the `.itertuples()` method to get the data in more tractable form, noting that `'x_norm'` and `'y_norm'` are in columns 9 and 10, respectively. The airline name is in column 1.\n",
    "\n",
    "We do some formatting on the fly here - replacing spaces in airline names with `\\n` - a line feed - to get some neater formatting, using the `.replace()` string method.\n",
    "\n",
    "To avoid confusion/interfering with `x` and `y` variables, we use `x_lbl` and `y_lbl` to be clear we're talking about label coordinates.\n",
    "\n",
    "Finally in the loop, we add the label text to the scatterplot, with `ax.annotate()`. We set the fontsize to be a little larger than default, and align the text at its centre point vertically with the datapoint, for neatness. We also offset the *x* position by 1 to avoid direct overlap.\n",
    "\n",
    "```python\n",
    "for row in outliers.itertuples():\n",
    "    x_lbl = float(row[9])\n",
    "    y_lbl = float(row[10])\n",
    "    label = str(row[1]).replace(' ', '\\n')\n",
    "    ax.annotate(label, (x_lbl + 1, y_lbl), fontsize=12,\n",
    "                verticalalignment='center')    \n",
    "```"
   ]
  },
  {
   "cell_type": "code",
   "execution_count": null,
   "metadata": {
    "collapsed": false
   },
   "outputs": [],
   "source": [
    "# Annotate the outliers and render the figure\n"
   ]
  },
  {
   "cell_type": "markdown",
   "metadata": {},
   "source": [
    "To take the figure slightly beyond that in the blog, we will add information about the regression to the upper right quadrant (which currently looks a bit empty). Again we will use `ax.annotate()`.\n",
    "\n",
    "Here, we're creating a list of strings, one per line in the final annotation.\n",
    "\n",
    "`matplotlib` lets us use $\\LaTeX$ strings, which are indicated here enclosed in `$`, as inline $\\LaTeX$ strings. We're also using the `string.format()` idiom from `Python`, to format floating point numbers with a suitable number of decimal places.\n",
    "\n",
    "<div class=\"alert alert-warning\">\n",
    "<b>NOTE:</b> To escape curly braces in Python's format strings, use the double braces: <b>{{</b> and <b>}}</b>.\n",
    "</div>\n",
    "\n",
    "```python\n",
    "annotstr = '\\n'.join(['REGRESSION',\n",
    "                      '$y = {0:.2f}x + {1:.2f}$'.format(slope, intercept),\n",
    "                      '$r^2: {0:.2f}$'.format(r_value**2),\n",
    "                      '$\\mathrm{{p-value}}: {0:.4f}$'.format(p_value),\n",
    "                      '$\\mathrm{{S.E}}. of estimate: {0:.3f}$'.format(std_err)])\n",
    "ax.annotate(annotstr, (60, 70), fontsize=12, color='red')\n",
    "```"
   ]
  },
  {
   "cell_type": "code",
   "execution_count": null,
   "metadata": {
    "collapsed": false
   },
   "outputs": [],
   "source": [
    "# Add text describing the regression, in this cell\n"
   ]
  },
  {
   "cell_type": "markdown",
   "metadata": {},
   "source": [
    "***QUESTION:*** Would this regression data be better presented as a table?"
   ]
  },
  {
   "cell_type": "code",
   "execution_count": null,
   "metadata": {
    "collapsed": true
   },
   "outputs": [],
   "source": []
  }
 ],
 "metadata": {
  "kernelspec": {
   "display_name": "Python 3",
   "language": "python",
   "name": "python3"
  },
  "language_info": {
   "codemirror_mode": {
    "name": "ipython",
    "version": 3
   },
   "file_extension": ".py",
   "mimetype": "text/x-python",
   "name": "python",
   "nbconvert_exporter": "python",
   "pygments_lexer": "ipython3",
   "version": "3.5.2"
  }
 },
 "nbformat": 4,
 "nbformat_minor": 0
}
