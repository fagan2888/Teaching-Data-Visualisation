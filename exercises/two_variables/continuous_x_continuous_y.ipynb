{
 "cells": [
  {
   "cell_type": "markdown",
   "metadata": {},
   "source": [
    "# Two variable continuous *x* and *y* in `matplotlib` and `seaborn` <img src=\"images/JHI_STRAP_Web.png\" style=\"width: 150px; float: right;\">"
   ]
  },
  {
   "cell_type": "markdown",
   "metadata": {},
   "source": [
    "<div class=\"alert alert-success\">\n",
    "<h2>Introduction</h2>\n",
    "</div>"
   ]
  },
  {
   "cell_type": "markdown",
   "metadata": {},
   "source": [
    "This notebook exercise describes visualisation of two-dimensional continuous *x*,*y* data in `Python`, using the `matplotlib` and `seaborn` libraries.\n",
    "\n",
    "For these examples, we will work with data concerning airline safety from the `FiveThirtyEight` blog post:\n",
    "\n",
    "* [Should Travelers Avoid Flying Airlines That Have Had Crashes in the Past?](http://fivethirtyeight.com/features/should-travelers-avoid-flying-airlines-that-have-had-crashes-in-the-past/)\n",
    "\n",
    "This data is located in the file `data/airline-safety.csv`, in the root repository. In this exercise you will look at the relationship between 'incidents' and 'fatalities' in the two 14-year periods: 1985-1999, and 2000-2014, to reproduce a figure from the blog post visualising the relationship. You will also carry out linear regression on the data and allowing you to determin whether there appears to be a (perhaps predictive) relationship between the two.\n",
    "\n",
    "![continuous x, y data example](images/intro_image_continuous_xy.png)"
   ]
  },
  {
   "cell_type": "markdown",
   "metadata": {},
   "source": [
    "#### Python imports\n",
    "\n",
    "To set up inline images, we run the *magic*:\n",
    "\n",
    "```python\n",
    "%matplotlib inline\n",
    "```\n",
    "\n",
    "and we import `seaborn` and `pandas` into the namespaces `sns` and `pd`:\n",
    "\n",
    "```python\n",
    "import seaborn as sns\n",
    "import pandas as pd\n",
    "```\n",
    "\n",
    "To do regression later on, we import `scipy.stats` as `stats`:\n",
    "\n",
    "```python\n",
    "from scipy import stats\n",
    "```\n",
    "\n",
    "<div class=\"alert alert-warning\">\n",
    "<b>We will suppress distracting warnings</b>\n",
    "</div>\n",
    "\n",
    "```python\n",
    "import warnings\n",
    "warnings.filterwarnings('ignore')\n",
    "```"
   ]
  },
  {
   "cell_type": "code",
   "execution_count": null,
   "metadata": {},
   "outputs": [],
   "source": [
    "# Use the pylab magic and import seaborn\n",
    "%matplotlib inline\n",
    "\n",
    "import seaborn as sns\n",
    "import pandas as pd\n",
    "from scipy import stats\n",
    "\n",
    "# Suppress warnings\n",
    "import warnings\n",
    "warnings.filterwarnings('ignore')"
   ]
  },
  {
   "cell_type": "markdown",
   "metadata": {},
   "source": [
    "### Learning Outcomes\n",
    "\n",
    "* Representing two-dimensional continuous *x* and *y* data using `matplotlib` and `seaborn` libraries\n",
    "* Use of `figure()` and subplots\n",
    "* Annotating plots with text\n",
    "* Working with long and wide form `DataFrame`s in `pandas`\n",
    "* Using statistical overlays and `seaborn`'s statistical plots"
   ]
  },
  {
   "cell_type": "markdown",
   "metadata": {},
   "source": [
    "<div class=\"alert alert-success\">\n",
    "<h2>Exercise</h2>\n",
    "</div>"
   ]
  },
  {
   "cell_type": "markdown",
   "metadata": {},
   "source": [
    "<div class=\"alert alert-success\">\n",
    "<h3>1. Loading the dataset</h3>\n",
    "</div>"
   ]
  },
  {
   "cell_type": "markdown",
   "metadata": {},
   "source": [
    "The data used for the `FiveThirtyEight` blog post was downloaded from [https://github.com/fivethirtyeight](https://github.com/fivethirtyeight). This describes for a set of airlines the number of seat kilometres flown every week, and corresponding counts for incidents, fatal accidents and fatalities for those airlines in the two 14-year periods 1985-1999 and 2000-2014.\n",
    "\n",
    "* `FiveThirtyEight` data: [https://github.com/fivethirtyeight](https://github.com/fivethirtyeight)\n",
    "\n",
    "The data is saved under this repository's root directory in the `data` subdirectory, in comma-separated variable format, as `airline-safety.csv`. You can import this into a `pandas` DataFrame in the variable `safety` with:\n",
    "\n",
    "```python\n",
    "safety = pd.read_csv(\"../../data/airline-safety.csv\", sep=\",\")\n",
    "```\n",
    "\n",
    "* `pandas`: [documentation](http://pandas.pydata.org/pandas-docs/stable/)\n",
    "\n",
    "and inspect it with a number of useful DataFrame methods:\n",
    "\n",
    "* `safety.head()`\n",
    "* `safety.describe()`\n",
    "* `safety.dtypes`"
   ]
  },
  {
   "cell_type": "code",
   "execution_count": null,
   "metadata": {
    "collapsed": true
   },
   "outputs": [],
   "source": [
    "# Load the airline safety data into the variable safety\n"
   ]
  },
  {
   "cell_type": "code",
   "execution_count": null,
   "metadata": {},
   "outputs": [],
   "source": [
    "# Inspect the data set using this cell\n"
   ]
  },
  {
   "cell_type": "markdown",
   "metadata": {},
   "source": [
    "<div class=\"alert alert-success\">\n",
    "<h3>2. Creating subplots</h3>\n",
    "</div>"
   ]
  },
  {
   "cell_type": "markdown",
   "metadata": {},
   "source": [
    "One of the more straightforward ways to gain a quick overview of continuous *x*, *y* data is with a *scatterplot*. In terms of elementary perceptual tasks, this places datapoints on a plane, with two common scales - one on the *x*-axis and one on the *y*-axis.\n",
    "\n",
    "<div class=\"alert alert-warning\">\n",
    "Scatterplots can be converted into <i>bubble plots</i> (incorporating the perceptual task of *area comparison*) by making the size of the marker dependent on a third variable. We will not be doing this here, but see the <b>making_movies.ipynb</b> exercise for an example of this.\n",
    "</div>\n",
    "\n",
    "You will begin by drawing six subplots, in two rows of three:\n",
    "\n",
    "* **Row 1**: incidents, fatal incidents and fatalities for 1985-1999\n",
    "* **Row 2**: incidents, fatal incidents and fatalities for 2000-2014\n",
    "\n",
    "Each subplot will contain a scatterplot, with *x*-axis equal to the number of seat kilometres flown, and the *y*-axis representing each of the datasets above."
   ]
  },
  {
   "cell_type": "markdown",
   "metadata": {},
   "source": [
    "#### Creating subplots and axis labels\n",
    "\n",
    "There are several ways to create a subplot layout in `matplotlib`, and you may have seen some of these in the exercise `one_variable_continuous.ipynb`. Here, we will use the `subplots()` function. This returns a `figure()` object, and collections of subplots, nested by row. To get two rows of three subplots, retaining each of the six subplot object in a variable we can then manipulate (as `ax1`..`ax6`) you can use the following code:\n",
    "\n",
    "```python\n",
    "fig, ((ax1, ax2, ax3), (ax4, ax5, ax6)) = subplots(nrows=2, ncols=3, figsize=(12, 8))\n",
    "```\n",
    "\n",
    "Here, `figsize` takes a tuple of `(width, height)` for the figure, in inches."
   ]
  },
  {
   "cell_type": "code",
   "execution_count": null,
   "metadata": {},
   "outputs": [],
   "source": [
    "# Create axes in this cell, with tight_layout()\n"
   ]
  },
  {
   "cell_type": "markdown",
   "metadata": {},
   "source": [
    "The subplots can be referred to individually to set their properties. To assign common *x*-axis labels for example, you can create a variable `axes` that holds a list of the six axes, and then loop over them to apply individual *x*-axis labels:\n",
    "\n",
    "```python\n",
    "axes = (ax1, ax2, ax3, ax4, ax5, ax6)\n",
    "for ax in axes:\n",
    "    ax.set_xlabel(\"km flown\")\n",
    "```\n",
    "\n",
    "This modifies the axes in-place, but does not change images that have already been produced. To visualise the modified figure, use:\n",
    "\n",
    "```python\n",
    "fig\n",
    "```"
   ]
  },
  {
   "cell_type": "code",
   "execution_count": null,
   "metadata": {},
   "outputs": [],
   "source": [
    "# Set axes xlabels in this cell\n"
   ]
  },
  {
   "cell_type": "markdown",
   "metadata": {},
   "source": [
    "You can pair up axes to write common *y*-axis labels, in a similar way. In the code below axes are paired in *tuples* that should have the same *y*-axis label, and associated (in another tuple) with the corresponding *y*-axis label. These tuples are then placed in the list `ylabels`. You can then loop over the list, to unpack the axes and the labels that need to be applied:\n",
    "\n",
    "```python\n",
    "ylabels = [((ax1, ax4), 'incidents'),\n",
    "           ((ax2, ax5), 'fatal incidents'),\n",
    "           ((ax3, ax6), 'fatalities')]\n",
    "for axes, label in ylabels:\n",
    "    for ax in axes:\n",
    "        ax.set_ylabel(label)\n",
    "```\n",
    "\n",
    "And to get nice separation of subplots in the grid layout so that the axis labels don't overlap, we can use `fig.tight_layout()` (and use `fig` to visualise the updated plot):\n",
    "\n",
    "```python\n",
    "fig.tight_layout()\n",
    "fig\n",
    "```"
   ]
  },
  {
   "cell_type": "code",
   "execution_count": null,
   "metadata": {},
   "outputs": [],
   "source": [
    "# Set y-axis labels in this cell\n"
   ]
  },
  {
   "cell_type": "markdown",
   "metadata": {},
   "source": [
    "***CHALLENGE:*** Can you set subplot titles on each chart in the top row to read `1985-1999`, and on each chart in the lower row to read `2000-2014`?"
   ]
  },
  {
   "cell_type": "code",
   "execution_count": null,
   "metadata": {},
   "outputs": [],
   "source": [
    "# Complete the challenge in this cell\n"
   ]
  },
  {
   "cell_type": "markdown",
   "metadata": {},
   "source": [
    "<div class=\"alert alert-success\">\n",
    "<h3>3. Plotting the data</h3>\n",
    "</div>"
   ]
  },
  {
   "cell_type": "markdown",
   "metadata": {},
   "source": [
    "So far all the plots are empty - there is no data associated with any of the axes. To examine relationships between incidents and fatalities, and the number of seat kilometres flown, you will have to add a *data representation* to each axis.\n",
    "\n",
    "For this you will use the `ax.scatter()` method, to render a scatterplot on each axis. As you will need to place a different dataset on each *y*-axis, pairing axes with those specific columns in the dataset as `(axis, data)` tuples will be useful, and this is done by creating the variable `datacols` below:\n",
    "\n",
    "```python\n",
    "datacols = [(ax1, 'incidents_85_99'), (ax2, 'fatal_accidents_85_99'),\n",
    "            (ax3, 'fatalities_85_99'), (ax4, 'incidents_00_14'),\n",
    "            (ax5, 'fatal_accidents_00_14'), (ax6, 'fatalities_00_14')]\n",
    "```\n",
    "\n",
    "Each of the datasets will be plotted against the same *x*-axis data - so you can loop over the six axes, calling the `.scatter()` method on each, and passing the same *x*-axis data (`safety['avail_seat_km_per_week']`) each time, varying the *y*-axis data (`safety[col]`) for each axis.\n",
    "\n",
    "```python\n",
    "for ax, col in datacols:\n",
    "    ax.scatter(safety['avail_seat_km_per_week'], safety[col])\n",
    "```"
   ]
  },
  {
   "cell_type": "code",
   "execution_count": 1,
   "metadata": {},
   "outputs": [],
   "source": [
    "# Plot the data in each scatterplot\n"
   ]
  },
  {
   "cell_type": "markdown",
   "metadata": {},
   "source": [
    "From these scatterplots you should see that the overall relationship is consistently that the more miles are flown by an airline, the more incidents of any type tend to occur. Also:\n",
    "\n",
    "* there is a strong outlier in 1985-1999 for number of incidents per seat km flown.\n",
    "* the number of fatalities does not appear to correlate strongly with km flown\n",
    "* the number of fatal incidents is small for any given airline - especially in the period 2000-2014\n",
    "\n",
    "<div class=\"alert alert-warning\">\n",
    "You might then think it reasonable to normalise the incident data by the number of seat kilometres flown for each airline. \n",
    "</div>"
   ]
  },
  {
   "cell_type": "markdown",
   "metadata": {},
   "source": [
    "<div class=\"alert alert-success\">\n",
    "<h3>4. Long and wide form data, faceting</h3>\n",
    "</div>"
   ]
  },
  {
   "cell_type": "markdown",
   "metadata": {},
   "source": [
    "The six plots above suggest that a statistical summary plot might be useful, fitting a linear regression to each of the six subplots. You can do this using the specialist plot type `lmplot()` in `seaborn`, to replace the `matplotlib.scatter()` plots we drew above.\n",
    "\n",
    "There's one slight niggle with this approach - we have to reconfigure our `safety` data, casting it from *wide* to *long* format, so that we can use a method called *faceting* to produce a grid of one subplot per variable type.\n",
    "\n",
    "You can do this with `pd.melt()`, a `pandas` function that can 'melt' data into a long table where variable names are placed in a single column, and the values for those variables are placed alongside in the same row.\n",
    "\n",
    "* `pandas` function `pd.melt()`: [docs](http://pandas.pydata.org/pandas-docs/stable/generated/pandas.melt.html)\n",
    "* 'melting' data: [blog post](http://www.r-bloggers.com/melt/)"
   ]
  },
  {
   "cell_type": "markdown",
   "metadata": {},
   "source": [
    "#### Melting data\n",
    "\n",
    "*Melting* data works much like pivot tables (which you may know from Microsoft Excel). In essence, you need to assign each of the data columns in your DataFrame to one of two types: `id_vars` or `value_vars`. These are conceptually distinct from each other, and to understand them it helps to consider a DataFrame as a specific kind of data structure...\n",
    "\n",
    "In *wide* form, each row of a DataFrame represents an individual, distinct *datapoint*; the columns of a *wide* DataFrame can be considered to represent *variable* values, and the names of those variables are given in the column headers. Those variables can be either `id_vars`, or `value_vars`.\n",
    "\n",
    "In *long* form, datapoints are represented in multiple rows: each datapoint has one row per `value_var`. Rows corresponding to the same datapoint are united by having the same `id_var` (or multiple `id_vars`).\n",
    "\n",
    "The airline data can be divided into these groups sensibly as follows:\n",
    "\n",
    "* `id_vars`: these are values that are used to *identify* a datapoint (`airline`) or it is otherwise useful to associate it with the same datapoint in each row - like a common *x*-axis value (`avail_seat_km_per_week`)\n",
    "* `value_vars`: all the other columns"
   ]
  },
  {
   "cell_type": "markdown",
   "metadata": {},
   "source": [
    "You can create a new DataFrame in *long* format as `safety_long` with the code below:\n",
    "\n",
    "```python\n",
    "safety_long = pd.melt(safety, id_vars=['airline', 'avail_seat_km_per_week'],\n",
    "                      value_vars=['incidents_85_99', 'fatal_accidents_85_99',\n",
    "                                  'fatalities_85_99', 'incidents_00_14',\n",
    "                                  'fatal_accidents_00_14', 'fatalities_00_14'])\n",
    "```\n",
    "\n",
    "This converts the data from a $56 \\times 8$ to a $336 \\times 4$ DataFrame. You can inspect the changes with:\n",
    "\n",
    "* safety_long.head()\n",
    "* safety_long.describe()\n",
    "* safety_long.dtypes"
   ]
  },
  {
   "cell_type": "code",
   "execution_count": null,
   "metadata": {},
   "outputs": [],
   "source": [
    "# Melt the data into long form and inspect the output in this cell\n"
   ]
  },
  {
   "cell_type": "markdown",
   "metadata": {},
   "source": [
    "Now you can use `sms.lmplot()` to render six scatterplots from the *long* form DataFrame - one for each variable in the order they were given in `value_vars` above: `['incidents_85_99', 'fatal_accidents_85_99', 'fatalities_85_99', 'incidents_00_14', 'fatal_accidents_00_14', 'fatalities_00_14']` - with overlaid linear regression on each plot.\n",
    "\n",
    "* `sms.lmplot()`: [docs](https://stanford.edu/~mwaskom/software/seaborn/generated/seaborn.lmplot.html)\n",
    "\n",
    "You will need to set the *x*, *y* data, and the originating dataset as:\n",
    "\n",
    "* `x`: `'avail_seat_km_per_week'` (common to all plots)\n",
    "* `y`: `'value'` (the data value for each variable)\n",
    "* `data`: `safety_long` (the originating DataFrame)\n",
    "\n",
    "You can split/*facet* the plot into six subplots on the basis of the six variables, by setting the following:\n",
    "\n",
    "* `col`: `'variable'` (split into separate plots on the basis of the variable names)\n",
    "* `hue`: `'variable'` (colour each variable plot differently)\n",
    "* `col_wrap`: `3` (wrap each row at three plots, so we get a 2x3 grid)\n",
    "\n",
    "Finally, as the *y*-axis values vary greatly between the six plots, you can relax the default setting that they share *y*-axes:\n",
    "\n",
    "* `sharey`: `False`\n",
    "\n",
    "So the line that generates our faceted grid plot is:\n",
    "\n",
    "```python\n",
    "sns.lmplot(x='avail_seat_km_per_week', y='value', data=safety_long,\n",
    "           col='variable', hue='variable', col_wrap=3, sharey=False);\n",
    "```"
   ]
  },
  {
   "cell_type": "code",
   "execution_count": null,
   "metadata": {},
   "outputs": [],
   "source": [
    "# Create the faceted lmplot in this cell\n"
   ]
  },
  {
   "cell_type": "markdown",
   "metadata": {},
   "source": [
    "<div class=\"alert alert-warning\">\n",
    "Visually, it appears that <b>seaborn</b>'s linear fitting suggests a positive relationship between seat km flown and both total incidents and fatal incidents, but not with total fatalities. Unfortunately, at time of writing, <b>seaborn</b> does not permit recovery of the fitted parameters from these plots.\n",
    "</div>"
   ]
  },
  {
   "cell_type": "markdown",
   "metadata": {},
   "source": [
    "<div class=\"alert alert-success\">\n",
    "<h3>5. Reproducing the blog plot</h3>\n",
    "</div>"
   ]
  },
  {
   "cell_type": "markdown",
   "metadata": {},
   "source": [
    "The [original blog post](http://fivethirtyeight.com/features/should-travelers-avoid-flying-airlines-that-have-had-crashes-in-the-past/) focuses on whether the number of incidents per airline in 1985-1999 is predictive of the number of incidents per airline in 2000-2014. We will attempt to emulate the plot of incidents per airline in each time period:\n",
    "\n",
    "![FiveThirtyEight plot](http://i1.wp.com/espnfivethirtyeight.files.wordpress.com/2014/07/silver-datalab-airlines-safety-3.png?quality=90&strip=all&w=575)"
   ]
  },
  {
   "cell_type": "markdown",
   "metadata": {},
   "source": [
    "#### Adjusting the data\n",
    "\n",
    "The first thing to note is that the incident data are normalised per 1e9 seat km, which is a sensible measure, and was suggested by our scatterplots above. You can generate two new DataFrame columns in `safety` to hold this data:\n",
    "\n",
    "```python\n",
    "safety['x_norm'] = 1e9 * safety['incidents_85_99']/safety['avail_seat_km_per_week']\n",
    "safety['y_norm'] = 1e9 * safety['incidents_00_14']/safety['avail_seat_km_per_week']\n",
    "```"
   ]
  },
  {
   "cell_type": "code",
   "execution_count": null,
   "metadata": {},
   "outputs": [],
   "source": [
    "# Normalise data in this cell\n"
   ]
  },
  {
   "cell_type": "markdown",
   "metadata": {},
   "source": [
    "Next, you can fit a linear regression to this data using the `scipy.stats.linregress` function, to capture some information about the fit:\n",
    "\n",
    "* `np.polyfit`: [docs](http://docs.scipy.org/doc/numpy/reference/generated/numpy.polyfit.html)\n",
    "* `stats.linregress`: [docs](http://docs.scipy.org/doc/scipy-0.14.0/reference/generated/scipy.stats.linregress.html)\n",
    "\n",
    "```python\n",
    "slope, intercept, r_value, p_value, std_err = stats.linregress(safety['x_norm'],\n",
    "                                                               safety['y_norm'])\n",
    "```\n",
    "\n",
    "This returns several useful regression values that you will add to the plot later."
   ]
  },
  {
   "cell_type": "code",
   "execution_count": null,
   "metadata": {},
   "outputs": [],
   "source": [
    "# Fit a linear regression to the normalised data\n"
   ]
  },
  {
   "cell_type": "markdown",
   "metadata": {},
   "source": [
    "Now you need to create a new `figure()` with axes, on which you can plot firstly a line that represents the linear regression fit (in red), and then the normalised data points for each airline's incidents per seat km travelled:\n",
    "\n",
    "```python\n",
    "fig, ax = subplots(figsize=(8, 8))\n",
    "ax.plot(safety['x_norm'], fit[0] * safety['x_norm'] + fit[1], c='red', alpha=0.6)\n",
    "ax.scatter(safety['x_norm'], safety['y_norm'], s=60, alpha=0.4, c='black')\n",
    "```\n",
    "\n",
    "Next, set labels and *x* and *y* axis limits to match the blogpost, and square up the aspect ratio with `ax.set_aspect('equal'):\n",
    "\n",
    "```python\n",
    "ax.set_xlabel('1985-99', fontsize=15)\n",
    "ax.set_ylabel('2000-14', fontsize=15)\n",
    "ax.set_title('Incidents by Airline Are Slightly Predictable', fontsize=20)\n",
    "ax.set_xlim((-5, 100))\n",
    "ax.set_ylim((-5, 100))\n",
    "ax.set_aspect('equal')\n",
    "```"
   ]
  },
  {
   "cell_type": "code",
   "execution_count": null,
   "metadata": {},
   "outputs": [],
   "source": [
    "# Plot the figure in this cell:\n",
    "# Plot regression line and scatterplot\n",
    "\n",
    "# Add labels and set aspect ratio\n"
   ]
  },
  {
   "cell_type": "markdown",
   "metadata": {},
   "source": [
    "This corroborates the modest positive correlation that is reported in the blog, but we have yet to identify and label \"outliers\" on the plot.\n",
    "\n",
    "Firstly, you will identify all points with more than 20 incidents in the period 1985-1999, placing them in the DataFrame `outliers`, by filtering the `safety` DataFrame:\n",
    "\n",
    "```python\n",
    "outliers = safety.loc[safety['x_norm'] > 20,]\n",
    "outliers\n",
    "```"
   ]
  },
  {
   "cell_type": "code",
   "execution_count": null,
   "metadata": {},
   "outputs": [],
   "source": [
    "# Identify outliers with more than 20 incidents in 1985-99\n"
   ]
  },
  {
   "cell_type": "markdown",
   "metadata": {},
   "source": [
    "Now you need to to add text for each of the airlines in these table rows, at the *x*,*y* position corresponding to their datapoints. To do this, iterate over each row in `outliers` in turn - using the `.itertuples()` method to get the data in tractable form - noting that `'x_norm'` and `'y_norm'` are in columns 9 and 10, respectively. The airline name is in column 1.\n",
    "\n",
    "The code below does some formatting on the fly - replacing spaces in airline names with `\\n` - a line feed - using the `.replace()` string method to get some neater text formatting.\n",
    "\n",
    "To avoid confusion/interfering with `x` and `y` variables, the code uses `x_lbl` and `y_lbl` to be clear that it's talking about label coordinates, and to avoid modifying data in variables `x` and `y`.\n",
    "\n",
    "Within in the loop, the label text to the scatterplot for each airline, using `ax.annotate()`. The code below sets the fontsize to be a little larger than default, and aligns the text at its centre point vertically with the datapoint, for neatness. It also offsets the *x*-axis position of the text by 1 to avoid direct overlap.\n",
    "\n",
    "```python\n",
    "for row in outliers.itertuples():\n",
    "    x_lbl = float(row[9])\n",
    "    y_lbl = float(row[10])\n",
    "    label = str(row[1]).replace(' ', '\\n')\n",
    "    ax.annotate(label, (x_lbl + 1, y_lbl), fontsize=12,\n",
    "                verticalalignment='center')    \n",
    "```"
   ]
  },
  {
   "cell_type": "code",
   "execution_count": null,
   "metadata": {},
   "outputs": [],
   "source": [
    "# Annotate the outliers and render the figure\n"
   ]
  },
  {
   "cell_type": "markdown",
   "metadata": {},
   "source": [
    "To take the figure slightly beyond that in the blog, you can add information about the regression to the upper right quadrant (which currently looks a bit empty), again using `ax.annotate()`.\n",
    "\n",
    "The code below creates a list of strings, one per line in the final annotation text, which are joined by line feeds with the idiom `\\n.join(['str1', 'str2', ...])`.\n",
    "\n",
    "`matplotlib` allows $\\LaTeX$ strings, which are indicated here enclosed in `$`, as inline $\\LaTeX$ strings. The code below also uses the `string.format()` idiom from `Python`, to format floating point numbers with a suitable number of decimal places.\n",
    "\n",
    "<div class=\"alert alert-warning\">\n",
    "<b>NOTE:</b> To escape curly braces in Python's format strings, use the double braces: <b>{{</b> and <b>}}</b>.\n",
    "</div>\n",
    "\n",
    "```python\n",
    "annotstr = '\\n'.join(['REGRESSION',\n",
    "                      '$y = {0:.2f}x + {1:.2f}$'.format(slope, intercept),\n",
    "                      '$r^2: {0:.2f}$'.format(r_value**2),\n",
    "                      '$\\mathrm{{p-value}}: {0:.4f}$'.format(p_value),\n",
    "                      '$\\mathrm{{S.E}}. of estimate: {0:.3f}$'.format(std_err)])\n",
    "ax.annotate(annotstr, (60, 70), fontsize=12, color='red')\n",
    "```"
   ]
  },
  {
   "cell_type": "code",
   "execution_count": null,
   "metadata": {},
   "outputs": [],
   "source": [
    "# Add text describing the regression, in this cell\n"
   ]
  },
  {
   "cell_type": "markdown",
   "metadata": {},
   "source": [
    "***QUESTION:*** Would this regression data be better presented as a table?"
   ]
  },
  {
   "cell_type": "code",
   "execution_count": null,
   "metadata": {
    "collapsed": true
   },
   "outputs": [],
   "source": []
  }
 ],
 "metadata": {
  "kernelspec": {
   "display_name": "Python 3",
   "language": "python",
   "name": "python3"
  },
  "language_info": {
   "codemirror_mode": {
    "name": "ipython",
    "version": 3
   },
   "file_extension": ".py",
   "mimetype": "text/x-python",
   "name": "python",
   "nbconvert_exporter": "python",
   "pygments_lexer": "ipython3",
   "version": "3.6.1"
  },
  "widgets": {
   "state": {},
   "version": "1.1.1"
  }
 },
 "nbformat": 4,
 "nbformat_minor": 1
}
