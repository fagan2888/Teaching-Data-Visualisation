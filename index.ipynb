{
 "cells": [
  {
   "cell_type": "markdown",
   "metadata": {},
   "source": [
    "# Research Data Visualisation Workshop\n",
    "\n",
    "This repository contains files for the Python hands-on session of the [Software Sustainability Institute](http://software.ac.uk/) Research Data Visualisation Workshop (RDVW) at the University of Manchester, 28th July 2016.\n",
    "\n",
    "* Course website: [http://software.ac.uk/rdvw](http://software.ac.uk/rdvw)\n",
    "* Course registration: [Eventbrite](http://www.eventbrite.com/e/research-data-visualisation-workshop-rdvw-tickets-25927808774?aff=SSILandingPage)\n",
    "\n",
    "<div class=\"alert alert-warning\">\n",
    "<b>Run this workshop in your browser</b>\n",
    "</div>\n",
    "\n",
    "These workshop materials are designed to be compatible with [MyBinder](mybinder.org). To start an instance of this repository in your browser, click on the badge below:\n",
    "\n",
    "[![Binder](http://mybinder.org/badge.svg)](http://mybinder.org/repo/widdowquinn/Teaching-Data-Visualisation)"
   ]
  },
  {
   "cell_type": "markdown",
   "metadata": {},
   "source": [
    "## Exercises\n",
    "\n",
    "This repository contains the following exercises:"
   ]
  },
  {
   "cell_type": "markdown",
   "metadata": {},
   "source": [
    "<div class=\"alert alert-success\">\n",
    "<b>One-variable, continuous data</b>\n",
    "</div>\n",
    "\n",
    "* [one_variable_continuous.ipynb](exercises/one_variable_continuous/one_variable_continuous.ipynb)\n",
    "\n",
    "### Learning Outcomes\n",
    "\n",
    "* Representing one-dimensional continuous-valued data using `matplotlib` and `seaborn` libraries\n",
    "* Generating random example data\n",
    "* Use of `figure()` and subplots\n",
    "\n",
    "[![1D contiuous data example](exercises/one_variable_continuous/images/intro_image.png)]((exercises/one_variable_continuous/one_variable_continuous.ipynb)"
   ]
  },
  {
   "cell_type": "markdown",
   "metadata": {},
   "source": [
    "<div class=\"alert alert-success\">\n",
    "<b>Two-variable, continuous <i>x</i>, <i>y</i> data\n",
    "</div>\n",
    "\n",
    "* [continuous_x_continuous_y.ipynb](exercises/two_variables/continuous_x_continuous_y.ipynb)\n",
    "\n",
    "### Learning Outcomes\n",
    "\n",
    "* Representing two-dimensional continuous *x* and *y* data using `matplotlib` and `seaborn` libraries\n",
    "* Use of `figure()` and subplots\n",
    "* Annotating plots with text\n",
    "* Working with long and wide form DataFrame\n",
    "* Using statistical overlays and `seaborn`'s statistical plots\n",
    "\n",
    "![continuous x, y data example](exercises/two_variables/images/intro_image_continuous_xy.png)"
   ]
  },
  {
   "cell_type": "markdown",
   "metadata": {},
   "source": [
    "<div class=\"alert alert-success\">\n",
    "<b>Grammar of Graphics</b>\n",
    "</div>\n",
    "\n",
    "* [grammar_of_graphics.ipynb](exercises/grammar_of_graphics/grammar_of_graphics.ipynb)\n",
    "\n",
    "### Learning Outcomes\n",
    "\n",
    "* Understand the Grammar of Graphics\n",
    "* Use the Grammar of Graphics with the `ggplot` module to produce a scatterplot from *aesthetics* and *geometric representations*.\n",
    "* Use *layers* to produce new visualisations specifically to suit your data, showing data and statistical summaries\n",
    "* Use multi-panel figures to display complex datasets\n",
    "\n",
    "[![grammar of graphics example](exercises/grammar_of_graphics/images/gog.png)]((exercises/grammar_of_graphics/grammar_of_graphics.ipynb)"
   ]
  },
  {
   "cell_type": "markdown",
   "metadata": {},
   "source": [
    "<div class=\"alert alert-success\">\n",
    "<b>Imaging 2D arrays, colormaps, and 3D surface plots</b>\n",
    "</div>\n",
    "\n",
    "* [colormaps_surfaces_netcdf.ipynb](exercises/colormaps_surfaces_netcdf/colormaps_surfaces_netcdf.ipynb)\n",
    "\n",
    "### Learning Outcomes\n",
    "\n",
    "* Read and use NetCDF format data using Python\n",
    "* Visualise array data as a heatmap/image\n",
    "* Explore array data visualisation with a range of colour palettes, and understand how selection and normalisation of colour palettes can influence the interpretation of data\n",
    "* Visualise 2D array data as a 3D surface plot\n",
    "* Explore the application and influence of colour palettes and lighting effects on the interpretation of 3D surface plots\n",
    "\n",
    "[![3D surface plot](exercises/colormaps_surfaces_netcdf/images/intro_image.png)]((exercises/colormaps_surfaces_netcdf/colormaps_surfaces_netcdf.ipynb)"
   ]
  },
  {
   "cell_type": "markdown",
   "metadata": {},
   "source": [
    "<div class=\"alert alert-success\">\n",
    "<b>Interactive map with bokeh</b>\n",
    "</div>\n",
    "\n",
    "* [interactive_bokeh_map.ipynb](exercises/interactive_bokeh_map/interactive_bokeh_map.ipynb)\n",
    "\n",
    "### Learning Outcomes\n",
    "\n",
    "* Import and process shapefile GIS data using `pyshp`\n",
    "* Import public `.csv` (electoral) data using `pandas`\n",
    "* Render GIS boundary data in an interactive `bokeh` plot\n",
    "* Colour geospatial data by results in an interactive `bokeh` plot\n",
    "\n",
    "[![interactive map screenshot](exercises/interactive_bokeh_map/images/eu_ref_manchester.png)](exercises/interactive_bokeh_map/interactive_bokeh_map.ipynb)"
   ]
  },
  {
   "cell_type": "markdown",
   "metadata": {
    "collapsed": true
   },
   "source": [
    "<div class=\"alert alert-success\">\n",
    "<b>Making movies with matplotlib and seaborn</b>\n",
    "</div>\n",
    "\n",
    "<div class=\"alert alert-danger\">\n",
    "<b>This exercise will not run correctly on MyBinder, as the h264 codec is not available</b>\n",
    "</div>\n",
    "\n",
    "* [making_movies.ipynb](exercises/making_movies/making_movies.ipynb)\n",
    "\n",
    "### Learning Outcomes\n",
    "\n",
    "* Understand `matplotlib`'s `animation` functionality\n",
    "* Generate animations using `FuncAnimation`\n",
    "* Generate line graph and bubble plot animations\n",
    "\n",
    "![bubble chart screenshot](exercises/making_movies/images/intro_image.png)"
   ]
  }
 ],
 "metadata": {
  "kernelspec": {
   "display_name": "Python 3",
   "language": "python",
   "name": "python3"
  },
  "language_info": {
   "codemirror_mode": {
    "name": "ipython",
    "version": 3
   },
   "file_extension": ".py",
   "mimetype": "text/x-python",
   "name": "python",
   "nbconvert_exporter": "python",
   "pygments_lexer": "ipython3",
   "version": "3.5.1"
  },
  "widgets": {
   "state": {},
   "version": "1.1.1"
  }
 },
 "nbformat": 4,
 "nbformat_minor": 0
}
